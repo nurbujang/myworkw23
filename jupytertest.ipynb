{
 "cells": [
  {
   "cell_type": "code",
   "execution_count": 5,
   "id": "71bad7ff",
   "metadata": {},
   "outputs": [],
   "source": [
    "c = 5+5\n",
    "c = 8"
   ]
  },
  {
   "cell_type": "code",
   "execution_count": 6,
   "id": "6851d547",
   "metadata": {},
   "outputs": [
    {
     "name": "stdout",
     "output_type": "stream",
     "text": [
      "8\n"
     ]
    }
   ],
   "source": [
    "print(c)"
   ]
  },
  {
   "cell_type": "markdown",
   "id": "ad2ff37f",
   "metadata": {},
   "source": [
    "### Look up markup language\n",
    "\n",
    "# level 1 heading (H1)\n",
    "\n",
    "- List item 1\n",
    "- List item 2\n",
    "- List item 3\n",
    "\n",
    "https://markdownguide.offshoot.io/basic-syntax/\n",
    "\n",
    "https://markdownguide.offshoot.io/cheat-sheet/\n",
    "\n",
    "https://github.com/jupyter/jupyter/wiki"
   ]
  },
  {
   "cell_type": "code",
   "execution_count": 1,
   "id": "7b449192",
   "metadata": {},
   "outputs": [],
   "source": [
    "import numpy as np"
   ]
  },
  {
   "cell_type": "code",
   "execution_count": 2,
   "id": "44760777",
   "metadata": {},
   "outputs": [
    {
     "data": {
      "text/plain": [
       "9.085731805904805"
      ]
     },
     "execution_count": 2,
     "metadata": {},
     "output_type": "execute_result"
    }
   ],
   "source": [
    "np.random.uniform(0.0, 5.0)\n",
    "np.random.uniform(7.0, 15.0) # will process this last line, unless u do print"
   ]
  },
  {
   "cell_type": "code",
   "execution_count": 3,
   "id": "4e36d10f",
   "metadata": {},
   "outputs": [
    {
     "name": "stdout",
     "output_type": "stream",
     "text": [
      "3.270995298063189\n",
      "7.812660309769841\n"
     ]
    }
   ],
   "source": [
    "print(np.random.uniform(0.0, 5.0))\n",
    "print(np.random.uniform(7.0, 15.0)) "
   ]
  },
  {
   "cell_type": "code",
   "execution_count": 4,
   "id": "918cc2ee",
   "metadata": {},
   "outputs": [],
   "source": [
    "x = (np.random.uniform(0.0, 5.0)) # nothing printed, but stored as internal variables\n",
    "y = (np.random.uniform(7.0, 15.0))"
   ]
  },
  {
   "cell_type": "code",
   "execution_count": null,
   "id": "adfb7c1c",
   "metadata": {},
   "outputs": [],
   "source": []
  }
 ],
 "metadata": {
  "kernelspec": {
   "display_name": "Python 3 (ipykernel)",
   "language": "python",
   "name": "python3"
  },
  "language_info": {
   "codemirror_mode": {
    "name": "ipython",
    "version": 3
   },
   "file_extension": ".py",
   "mimetype": "text/x-python",
   "name": "python",
   "nbconvert_exporter": "python",
   "pygments_lexer": "ipython3",
   "version": "3.11.5"
  }
 },
 "nbformat": 4,
 "nbformat_minor": 5
}
