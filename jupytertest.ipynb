{
 "cells": [
  {
   "cell_type": "code",
   "execution_count": 1,
   "id": "2e3e144b",
   "metadata": {},
   "outputs": [],
   "source": [
    "c = 5+5"
   ]
  },
  {
   "cell_type": "code",
   "execution_count": 2,
   "id": "8f2891e3",
   "metadata": {},
   "outputs": [
    {
     "name": "stdout",
     "output_type": "stream",
     "text": [
      "10\n"
     ]
    }
   ],
   "source": [
    "print(c)"
   ]
  },
  {
   "cell_type": "markdown",
   "id": "9cfc3810",
   "metadata": {},
   "source": [
    "### Look up markup language"
   ]
  }
 ],
 "metadata": {
  "kernelspec": {
   "display_name": "Python 3 (ipykernel)",
   "language": "python",
   "name": "python3"
  },
  "language_info": {
   "codemirror_mode": {
    "name": "ipython",
    "version": 3
   },
   "file_extension": ".py",
   "mimetype": "text/x-python",
   "name": "python",
   "nbconvert_exporter": "python",
   "pygments_lexer": "ipython3",
   "version": "3.10.12"
  }
 },
 "nbformat": 4,
 "nbformat_minor": 5
}
