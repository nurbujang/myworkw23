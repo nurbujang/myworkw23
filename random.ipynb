{
 "cells": [
  {
   "cell_type": "markdown",
   "metadata": {},
   "source": [
    "# Random Numbers in numpy\n",
    "\n",
    "***"
   ]
  },
  {
   "cell_type": "code",
   "execution_count": 8,
   "metadata": {},
   "outputs": [],
   "source": [
    "# Numerical arrays, random numbers.\n",
    "import numpy as np\n",
    "\n",
    "# Plots.\n",
    "import matplotlib.pyplot as plt"
   ]
  },
  {
   "cell_type": "markdown",
   "metadata": {},
   "source": [
    "## Python Standard Library\n",
    "\n",
    "https://docs.python.org/3/library/random.html\n",
    "\n",
    "https://numpy.org/doc/stable/reference/random/index.html\n",
    "\n",
    "***"
   ]
  },
  {
   "cell_type": "code",
   "execution_count": 9,
   "metadata": {},
   "outputs": [],
   "source": [
    "# The random module from the standard library.\n",
    "import random"
   ]
  },
  {
   "cell_type": "code",
   "execution_count": 10,
   "metadata": {},
   "outputs": [
    {
     "name": "stdout",
     "output_type": "stream",
     "text": [
      "\u001b[0;31mSignature:\u001b[0m \u001b[0mrandom\u001b[0m\u001b[0;34m.\u001b[0m\u001b[0mrandint\u001b[0m\u001b[0;34m(\u001b[0m\u001b[0ma\u001b[0m\u001b[0;34m,\u001b[0m \u001b[0mb\u001b[0m\u001b[0;34m)\u001b[0m\u001b[0;34m\u001b[0m\u001b[0;34m\u001b[0m\u001b[0m\n",
      "\u001b[0;31mDocstring:\u001b[0m\n",
      "Return random integer in range [a, b], including both end points.\n",
      "        \n",
      "\u001b[0;31mFile:\u001b[0m      ~/anaconda3/envs/base_3.11/lib/python3.11/random.py\n",
      "\u001b[0;31mType:\u001b[0m      method"
     ]
    }
   ],
   "source": [
    "# Using autocomplete, we can a get a flavour of the module.\n",
    "# Putting a question mark in front of a function name prints\n",
    "# a little help message.\n",
    "?random.randint"
   ]
  },
  {
   "cell_type": "code",
   "execution_count": 11,
   "metadata": {},
   "outputs": [
    {
     "data": {
      "text/plain": [
       "10"
      ]
     },
     "execution_count": 11,
     "metadata": {},
     "output_type": "execute_result"
    }
   ],
   "source": [
    "# Based on the above, we can generate a random integer between\n",
    "# 10 and 20, inclusive.\n",
    "random.randint(10, 20)"
   ]
  },
  {
   "cell_type": "code",
   "execution_count": 12,
   "metadata": {},
   "outputs": [
    {
     "data": {
      "text/plain": [
       "[5, 5, 3, 2, 4, 10, 9, 7, 7, 3]"
      ]
     },
     "execution_count": 12,
     "metadata": {},
     "output_type": "execute_result"
    }
   ],
   "source": [
    "# Generate a list of 100 random integers between 1 and 10.\n",
    "L = [random.randint(1, 10) for i in range(100)] # list comprehensions, loop through 0-99\n",
    "\n",
    "# Show the first ten items of L.\n",
    "L[:10]"
   ]
  },
  {
   "cell_type": "code",
   "execution_count": 13,
   "metadata": {},
   "outputs": [],
   "source": [
    "# List of car makes.\n",
    "makes = ['Toyota', 'Skoda', 'Ford', 'Renault']"
   ]
  },
  {
   "cell_type": "code",
   "execution_count": 14,
   "metadata": {},
   "outputs": [
    {
     "data": {
      "text/plain": [
       "'Skoda'"
      ]
     },
     "execution_count": 14,
     "metadata": {},
     "output_type": "execute_result"
    }
   ],
   "source": [
    "# Select one at random.\n",
    "random.choice(makes)"
   ]
  },
  {
   "cell_type": "code",
   "execution_count": 15,
   "metadata": {},
   "outputs": [
    {
     "data": {
      "text/plain": [
       "['Ford',\n",
       " 'Toyota',\n",
       " 'Ford',\n",
       " 'Toyota',\n",
       " 'Skoda',\n",
       " 'Skoda',\n",
       " 'Renault',\n",
       " 'Renault',\n",
       " 'Toyota',\n",
       " 'Renault']"
      ]
     },
     "execution_count": 15,
     "metadata": {},
     "output_type": "execute_result"
    }
   ],
   "source": [
    "# Select ten random makes (with replacement).\n",
    "random.choices(makes, k=10)"
   ]
  },
  {
   "cell_type": "code",
   "execution_count": 16,
   "metadata": {},
   "outputs": [],
   "source": [
    "# First eight letters.\n",
    "letters = ['A', 'B', 'C', 'D', 'E', 'F', 'G', 'H']"
   ]
  },
  {
   "cell_type": "code",
   "execution_count": 17,
   "metadata": {},
   "outputs": [],
   "source": [
    "# Shuffle them.\n",
    "random.shuffle(letters)"
   ]
  },
  {
   "cell_type": "code",
   "execution_count": 18,
   "metadata": {},
   "outputs": [
    {
     "data": {
      "text/plain": [
       "['E', 'D', 'F', 'G', 'A', 'C', 'H', 'B']"
      ]
     },
     "execution_count": 18,
     "metadata": {},
     "output_type": "execute_result"
    }
   ],
   "source": [
    "# Look at letters after shuffle.\n",
    "letters"
   ]
  },
  {
   "cell_type": "code",
   "execution_count": 19,
   "metadata": {},
   "outputs": [
    {
     "data": {
      "text/plain": [
       "['G', 'C', 'H', 'B', 'A']"
      ]
     },
     "execution_count": 19,
     "metadata": {},
     "output_type": "execute_result"
    }
   ],
   "source": [
    "# Random selection without replacement.\n",
    "random.sample(letters, k=5)"
   ]
  },
  {
   "cell_type": "code",
   "execution_count": 20,
   "metadata": {},
   "outputs": [
    {
     "data": {
      "text/plain": [
       "0.02234651970273782"
      ]
     },
     "execution_count": 20,
     "metadata": {},
     "output_type": "execute_result"
    }
   ],
   "source": [
    "# Random real (floating-point) number. [0.0, 1.0) Between 0.0 and 1.0. [ is included, ) is excluded\n",
    "random.random()"
   ]
  },
  {
   "cell_type": "code",
   "execution_count": 21,
   "metadata": {},
   "outputs": [
    {
     "data": {
      "text/plain": [
       "68.61134961986924"
      ]
     },
     "execution_count": 21,
     "metadata": {},
     "output_type": "execute_result"
    }
   ],
   "source": [
    "# Pick a random floating point number between 0.0 and 100.0. [0.0, 100.0]. Both end points included [ ]\n",
    "random.uniform(0.0, 100.0)"
   ]
  },
  {
   "cell_type": "markdown",
   "metadata": {},
   "source": [
    "## numpy\n",
    "\n",
    "[numpy API Reference: Random sampling](https://numpy.org/doc/stable/reference/random/index.html)\n",
    "\n",
    "https://numpy.org/doc/stable/reference/random/index.html\n",
    "\n",
    "***"
   ]
  },
  {
   "cell_type": "code",
   "execution_count": 22,
   "metadata": {},
   "outputs": [],
   "source": [
    "# Random Number Generator (RNG) for generating random numbers.\n",
    "rng = np.random.default_rng()"
   ]
  },
  {
   "cell_type": "code",
   "execution_count": 23,
   "metadata": {},
   "outputs": [
    {
     "data": {
      "text/plain": [
       "array([0.97561534, 0.89205243, 0.28244345, 0.57514425, 0.64635295,\n",
       "       0.72112004, 0.32955697, 0.39490664, 0.86471218, 0.9174111 ])"
      ]
     },
     "execution_count": 23,
     "metadata": {},
     "output_type": "execute_result"
    }
   ],
   "source": [
    "# Generate random floating point numbers in the half-open interval [0.0, 1.0). 0.0 (included) to 1.0 (excluded). \n",
    "rng.random(10)"
   ]
  },
  {
   "cell_type": "code",
   "execution_count": 24,
   "metadata": {},
   "outputs": [
    {
     "data": {
      "text/plain": [
       "array([ 0.31820676, -1.14553492,  0.8337519 , -0.28407447,  0.94255558,\n",
       "       -0.17819087,  0.58972482, -1.77220424, -0.93340486, -0.6757557 ])"
      ]
     },
     "execution_count": 24,
     "metadata": {},
     "output_type": "execute_result"
    }
   ],
   "source": [
    "# Generate numbers on a standard Normal distribution.\n",
    "# The mean is 0.0 and standard deviation is 1.0.\n",
    "# The numbers generated should be, on average, centred on 0.0.\n",
    "# More than 99% of the numbers generated should be in the interval (-3.0, 3.0). Both -3.0 and 3.0 not included\n",
    "\n",
    "rng.standard_normal(10)"
   ]
  },
  {
   "cell_type": "code",
   "execution_count": 25,
   "metadata": {},
   "outputs": [
    {
     "data": {
      "text/plain": [
       "array([-0.03050707,  0.65480197, -0.19150484,  1.43485242,  0.01397289,\n",
       "        0.35228488, -0.12390655, -0.68548484, -0.20935013,  2.21680669,\n",
       "       -0.83492193,  0.48639905,  0.22588067, -0.46815437, -0.44378464,\n",
       "       -0.47638103, -1.54275126, -0.67126641,  0.48763479,  0.74615849,\n",
       "       -0.06721416, -0.88908751, -0.09807129,  0.26010995, -0.82804489,\n",
       "        0.755604  , -0.1772266 ,  0.25027131,  0.46704509,  1.80191905,\n",
       "        0.83930319, -0.51816288,  0.10136126, -0.0709747 , -0.60268729,\n",
       "        1.20101561,  0.97862623, -0.77451387, -0.71979604,  0.23011728,\n",
       "        0.69479729, -1.21438218, -0.20400538,  0.18351739,  0.59188683,\n",
       "       -0.85452292,  1.35070059, -0.58813194,  0.56067439, -2.01597975,\n",
       "        0.20116756, -0.09434246, -0.35770465,  0.85048994,  0.35081167,\n",
       "        0.80658728,  0.18883221,  0.66391477, -0.81614702,  0.37368729,\n",
       "        0.08951776, -0.21154515, -0.24618315, -0.9685996 ,  1.388208  ,\n",
       "        0.52976225,  1.25153204,  1.15796877,  1.34504078, -0.28037589,\n",
       "       -0.48672366, -0.3536561 ,  0.79049134,  0.19690905, -0.16738581,\n",
       "        1.14547979, -0.68308002,  0.42586689,  1.0008708 , -0.60121658,\n",
       "       -0.7104394 ,  0.9307978 ,  0.69482926,  0.39111703, -0.26706424,\n",
       "        2.05549787, -0.63657223, -0.10972551, -0.89679902,  0.40113514,\n",
       "       -0.58022017, -0.37658685,  1.63777727, -0.57841952,  0.56202893,\n",
       "        0.23483259, -0.122577  ,  0.16221912, -1.31396007, -0.0916772 ])"
      ]
     },
     "execution_count": 25,
     "metadata": {},
     "output_type": "execute_result"
    }
   ],
   "source": [
    "# Generate numbers on a standard Normal distribution.\n",
    "rng.standard_normal(100)"
   ]
  },
  {
   "cell_type": "markdown",
   "metadata": {},
   "source": [
    "## Plotting Bar Charts\n",
    "\n",
    "***"
   ]
  },
  {
   "cell_type": "code",
   "execution_count": 26,
   "metadata": {},
   "outputs": [
    {
     "data": {
      "text/plain": [
       "array([12, 11, 15, 16, 12, 17, 13, 16, 19, 12, 19, 10, 13, 18, 18])"
      ]
     },
     "execution_count": 26,
     "metadata": {},
     "output_type": "execute_result"
    }
   ],
   "source": [
    "# Generate 15 integers between 10 (included) and 20 (excluded).\n",
    "rng.integers(low=10, high=20, size=15) "
   ]
  },
  {
   "cell_type": "code",
   "execution_count": 27,
   "metadata": {},
   "outputs": [
    {
     "data": {
      "text/plain": [
       "array([ 6,  9,  6,  9,  7,  1,  1,  6,  7,  7,  3,  1,  3, 10, 10,  9,  7,\n",
       "        7,  3, 10,  1,  3,  1,  8,  2,  9,  1,  6,  1,  1,  4,  3,  9,  5,\n",
       "        3,  7,  4,  4, 10,  7, 10,  5,  5,  6,  5,  3,  6,  9,  1,  5, 10,\n",
       "        4, 10,  2,  4,  3,  3,  8, 10,  6,  2,  4,  3,  9,  9,  5,  7, 10,\n",
       "        3,  7,  5,  6,  1,  8,  8,  6,  1,  9,  5, 10, 10,  7, 10,  2,  4,\n",
       "        7,  1,  2,  6,  4,  7,  4,  6,  5,  4,  9,  1,  4,  6,  1,  3,  8,\n",
       "        4,  2,  4,  7,  3,  6,  1,  6,  6, 10,  9,  1,  1,  5,  3,  1,  9,\n",
       "        4,  1,  7,  5,  1,  1,  9,  5,  7,  3,  1,  1,  2,  4,  3,  9,  3,\n",
       "       10,  7, 10, 10,  5,  4,  1, 10,  5,  3,  4,  3, 10,  4,  7,  3,  5,\n",
       "        9,  4,  5,  9,  2, 10,  2,  9,  3,  5,  5,  5,  2,  5,  7,  9,  5,\n",
       "        5,  4, 10,  7,  5,  3,  9,  6,  8,  6,  7,  2,  4,  3,  3,  3,  1,\n",
       "        3,  5,  1,  4,  7,  1, 10,  3,  9,  7,  7,  2,  2,  7,  2,  3,  3,\n",
       "       10,  9,  4,  9,  7,  8, 10,  8,  4,  9, 10,  6,  4,  8,  6,  9, 10,\n",
       "        6,  8,  4,  9,  5,  1,  4,  8,  4,  6,  9,  4,  4,  7,  5,  8,  8,\n",
       "        5,  7,  8,  5,  3,  1,  9,  6,  7,  2,  5,  2,  8,  6,  3,  1,  9,\n",
       "        6,  6,  2, 10,  1,  7,  2,  5,  4,  3,  5,  7,  7,  1, 10,  4,  8,\n",
       "        4,  2,  8,  5,  5,  7,  5,  6,  9,  8,  2,  8,  2,  1, 10,  5, 10,\n",
       "        2,  6,  7,  4,  9, 10,  2,  7, 10,  3,  8,  4,  4,  4,  6,  4,  4,\n",
       "        3, 10,  4,  7,  9,  3,  7,  2,  9,  8,  9,  8,  2,  2,  5,  6,  4,\n",
       "       10,  6, 10,  6, 10,  6,  9,  3,  4,  7,  9,  5,  9,  4,  5,  3,  1,\n",
       "        3,  1,  2, 10,  2,  1,  1,  6, 10,  7,  9,  4,  3,  3,  1,  8,  6,\n",
       "       10,  8,  4,  2,  1, 10,  1,  4,  4,  2,  4,  1, 10,  6,  2,  9,  9,\n",
       "        1,  4,  4, 10,  7,  1,  4,  6, 10,  3,  8,  6,  1,  2,  4,  6,  8,\n",
       "        8,  6,  6,  5,  4,  3,  6,  9, 10,  8,  4,  7,  6,  8,  4, 10,  3,\n",
       "        5,  8,  2,  2,  3,  3,  2,  8,  6,  5,  5,  9,  8,  1,  9,  5,  4,\n",
       "        8,  8,  3,  5, 10,  4,  8,  3, 10,  1,  2,  9,  2,  3,  7,  5,  8,\n",
       "        9,  5,  5,  1,  9,  1,  1,  2,  6, 10,  2,  3,  9, 10,  7,  1,  2,\n",
       "        7,  1,  9,  4,  3, 10, 10,  4,  9,  3,  7,  5,  5,  2, 10,  2,  5,\n",
       "        7,  5,  5,  3,  5,  3, 10,  6,  1,  4,  6,  5,  5,  5,  3, 10,  4,\n",
       "        6,  3,  7,  4,  3,  7,  1,  3,  2,  6,  2,  6,  5,  2,  4,  9,  8,\n",
       "        8,  2,  6, 10,  1,  7,  5,  6,  7,  5,  1,  1,  4,  8,  7,  1,  3,\n",
       "        6,  7, 10,  7,  5,  6,  7, 10,  3,  3,  8,  8,  1,  9,  3,  9,  9,\n",
       "        8,  8,  8,  9,  9,  4,  2,  7,  6,  3,  4,  2,  1,  2,  6, 10, 10,\n",
       "        4,  7, 10,  8,  3,  4,  7,  9,  8,  4,  4,  9, 10,  1,  8,  2,  6,\n",
       "        5,  7,  6,  6,  7,  1,  7,  6,  3, 10,  4,  5,  6,  4, 10,  4,  5,\n",
       "        2,  7,  7,  2,  1,  9,  1,  4,  2,  5,  3,  7,  6,  1,  7,  7,  6,\n",
       "        4,  6,  9,  4,  1,  2,  5,  9,  6, 10,  8,  3,  7,  3,  4,  3,  6,\n",
       "        9,  3,  2,  4,  6,  8,  9,  8,  7,  9,  3,  7,  9, 10, 10,  8,  1,\n",
       "        1,  4,  5,  4,  4,  9,  7,  7,  4,  2,  7,  6,  6,  2,  9,  5,  7,\n",
       "        6,  8,  6,  9,  7,  8,  7,  1,  3,  1,  4,  1,  6,  3,  3,  4,  3,\n",
       "        5,  9,  9,  1,  3,  8, 10, 10, 10,  5,  8,  6,  9, 10,  3,  6,  7,\n",
       "        7,  9,  2,  1,  7,  6,  5,  9,  9,  5,  1,  5,  5,  5,  9,  9,  4,\n",
       "        7,  3,  7,  5,  4,  8,  8, 10, 10, 10,  9,  7,  6,  9,  1,  8,  4,\n",
       "        2,  2,  9,  3,  2,  3,  7,  9,  6,  9,  1,  8,  5,  8, 10,  8,  9,\n",
       "        2,  3,  7,  5,  8,  6, 10,  6,  3,  6,  1,  8, 10,  2,  9,  4,  2,\n",
       "        9,  8,  1,  8,  2,  6,  7,  2,  4,  9, 10,  2,  9,  4,  8,  3,  3,\n",
       "        6, 10,  7,  2,  8,  1,  7, 10,  8,  8,  9,  5, 10,  9,  2,  3,  4,\n",
       "        6,  3,  9,  6,  1,  2,  9,  4,  7,  2,  6,  4,  7,  5,  5,  9,  3,\n",
       "        7,  9,  5,  6,  2,  3,  8,  8,  8,  4, 10,  6,  8,  6,  2,  5,  6,\n",
       "        5,  1, 10,  1,  9,  7,  7,  5,  8,  7,  8,  2,  7,  2,  9, 10,  2,\n",
       "        7, 10,  4,  4,  1,  4,  7,  9,  4,  4,  9,  3,  2,  2,  4,  4, 10,\n",
       "        4,  9,  7,  1,  9, 10,  1,  2,  4,  5,  9,  1, 10,  1, 10,  6,  5,\n",
       "        1,  5,  8,  4,  2,  5,  6,  9,  3,  5,  3,  7,  4,  2,  4,  6,  4,\n",
       "        1,  5,  1,  7,  1,  7, 10,  7,  6,  8,  6,  3,  8,  6,  1,  8, 10,\n",
       "        6,  2,  3,  4,  5,  4,  8,  9,  9,  7,  7, 10,  8,  7,  7,  3,  7,\n",
       "        9,  6,  8, 10,  9,  6, 10,  1,  3,  6,  3,  1,  5,  1,  1,  9,  1,\n",
       "        5,  2,  4,  7,  6, 10,  8,  8,  2,  8,  3,  1,  3,  2,  7,  8,  4,\n",
       "        6,  6,  5,  6,  8,  4, 10,  6,  2,  3,  2,  1,  6,  6,  6,  9,  6,\n",
       "        6, 10,  4,  1,  4,  6,  2,  4,  3,  4,  8,  5,  9, 10])"
      ]
     },
     "execution_count": 27,
     "metadata": {},
     "output_type": "execute_result"
    }
   ],
   "source": [
    "rand_ints = rng.integers(low=1, high=11, size=1000)\n",
    "\n",
    "# Show\n",
    "rand_ints"
   ]
  },
  {
   "cell_type": "code",
   "execution_count": 28,
   "metadata": {},
   "outputs": [],
   "source": [
    "# The lowest integer allowed.\n",
    "low = 1\n",
    "\n",
    "# The highest integer allowed.\n",
    "high = 10\n",
    "\n",
    "# The number of integers to generate.\n",
    "size = 1000 # try to change to 10000 or 100000, bar will look almost uniform"
   ]
  },
  {
   "cell_type": "code",
   "execution_count": 29,
   "metadata": {},
   "outputs": [
    {
     "data": {
      "text/plain": [
       "array([ 4,  3,  2,  8,  1,  4,  7, 10,  2,  1,  3,  6,  2,  6,  3,  8,  5,\n",
       "        7,  3,  7,  6,  1,  2,  7,  1,  8,  7,  5,  1,  8,  9,  3,  5,  2,\n",
       "        8,  3,  2,  6,  8,  8,  3, 10,  1,  7, 10,  6,  3,  5,  6,  7,  4,\n",
       "        3,  3,  7,  8,  5,  2,  4, 10,  8,  7,  3,  1,  4, 10,  2,  4,  4,\n",
       "       10,  5,  3, 10, 10,  7,  7,  1,  4,  7,  8, 10,  9, 10,  3,  2,  5,\n",
       "        7,  6,  8, 10,  4,  1,  2,  3,  1, 10,  8,  7,  6,  6,  2,  3,  6,\n",
       "       10,  5,  9, 10,  3,  1,  4,  5,  4,  8, 10,  3,  6,  9,  9,  5,  9,\n",
       "        5,  5,  9,  2,  9,  3,  8,  6, 10,  8,  4, 10,  1,  4,  3,  6,  4,\n",
       "        6,  5,  5,  8,  6,  4,  3,  2,  3,  8,  4, 10,  8, 10,  7,  6,  1,\n",
       "        1,  7,  3,  8,  7,  2,  9,  4,  6,  1,  3, 10,  2,  6,  1,  3,  8,\n",
       "        2,  5,  2,  8,  2,  2,  4,  3,  6,  1,  6,  7,  6,  8,  4,  2,  1,\n",
       "        7,  1, 10,  1,  1,  8,  5,  2,  2,  9,  9, 10,  3,  1,  7,  7,  8,\n",
       "        2,  2,  4,  3,  4,  2,  1, 10,  4, 10,  2,  9,  5,  3, 10,  8,  9,\n",
       "        2,  6,  8,  8,  9,  9,  2,  4,  2,  7, 10,  6,  1,  5,  6,  8,  6,\n",
       "        1,  2, 10,  6,  4,  4,  1,  9,  7,  2,  5,  6, 10,  3,  1,  9,  7,\n",
       "        3,  1,  7,  2,  7,  4, 10,  6,  5,  6,  4,  1,  6,  1,  3,  9,  2,\n",
       "        7,  5,  4,  5,  6, 10,  8,  7,  1,  2,  5,  5,  8,  6,  7,  5,  3,\n",
       "       10,  4, 10,  6, 10,  7,  2,  9,  8,  4, 10,  9,  8, 10,  9,  6,  5,\n",
       "        2,  8,  2,  3,  7,  9,  6, 10,  2,  5,  9,  4,  8,  1,  3,  9,  5,\n",
       "        9,  2,  8,  6,  3,  8,  9,  9, 10,  2, 10, 10,  1,  3,  3,  5,  8,\n",
       "       10, 10,  3,  5,  1,  8,  8,  5,  1,  1,  3,  5,  2,  8,  5,  1,  3,\n",
       "        2,  8,  3,  7,  1,  3,  4,  3,  7,  8,  8,  9,  2,  2,  2,  6, 10,\n",
       "        2,  3,  5,  5,  1,  1,  6,  8,  9,  5,  6,  3,  4,  7,  5,  1,  1,\n",
       "        5, 10,  5,  3,  5,  2,  3,  9,  1, 10,  3,  9,  9,  1,  4,  7,  2,\n",
       "        6, 10,  5,  5,  4,  8,  7,  2,  3,  7,  5, 10, 10,  4,  7,  6,  8,\n",
       "        1,  7,  5,  4,  9,  6,  9,  7,  1,  1,  8,  3,  1,  4,  2,  5,  4,\n",
       "        1,  7,  6,  4,  1,  2,  2,  4,  4,  3,  9,  2,  8,  2,  7,  8,  5,\n",
       "        9,  7,  8,  8,  5,  5,  1, 10,  1, 10,  2,  6,  9,  1,  1, 10,  8,\n",
       "        2,  3,  1,  5,  7,  9,  4,  8,  9,  3,  5,  1,  5,  1,  1,  9,  1,\n",
       "        4, 10,  5,  2,  2, 10,  5,  2, 10,  1,  2, 10,  8,  3,  5,  1,  8,\n",
       "        4,  8,  8,  9,  7,  3,  5,  1,  7,  4,  7,  7,  6,  5,  9,  3,  9,\n",
       "        2,  5,  5,  2,  1,  8,  1,  3,  5,  2,  3,  3,  8,  5,  6,  9,  3,\n",
       "        9,  9,  4,  6,  4,  1,  6,  1,  4,  2,  3,  5,  9, 10,  6,  5,  8,\n",
       "        3,  9,  1,  9,  5,  8,  4,  1,  2,  4,  8,  4,  8,  3,  2,  7,  9,\n",
       "        6,  3,  5, 10,  4,  7,  5,  3,  4,  5,  8,  3,  2,  8,  9,  3,  2,\n",
       "        5,  8, 10,  4,  1,  2,  8,  1,  1,  2,  7,  8,  5,  3,  1,  2,  3,\n",
       "        4,  7,  7,  9,  1,  4, 10,  8,  5, 10, 10, 10,  8,  2,  7,  9,  2,\n",
       "        4,  1,  6,  9,  4,  9,  1,  5,  5,  4,  9,  5,  8,  8,  5,  2,  1,\n",
       "        1,  5,  7,  9,  7,  2,  1, 10,  8,  5,  6,  8,  3,  6, 10,  3, 10,\n",
       "        4,  5,  8,  7,  1,  9,  9,  4,  1,  6, 10,  8,  6, 10,  1,  7,  8,\n",
       "        1,  1,  1,  9,  8,  9,  4,  8,  9,  6, 10,  1,  6,  9,  3,  3,  7,\n",
       "        9,  2,  3,  6,  5,  3,  7,  1,  4,  3,  2,  7, 10,  7,  3,  6,  3,\n",
       "        3,  1,  1,  4,  8,  5,  6,  2,  1,  4, 10,  1,  7,  8,  4,  3,  8,\n",
       "        4,  3,  5, 10,  1,  1,  2,  4,  3, 10,  3,  4,  8,  8,  6,  3,  5,\n",
       "        3,  7,  9,  6,  8,  1,  3,  3,  5,  9,  4,  4,  3,  5,  9,  4,  8,\n",
       "        4,  7,  8,  6,  5,  2,  9,  7,  9, 10,  7, 10,  8,  1,  3,  1, 10,\n",
       "        3,  7,  4,  2, 10, 10,  1,  6, 10,  9,  9,  3,  9,  6,  4,  5,  3,\n",
       "        8,  1,  8,  9,  9,  6,  2,  3, 10,  9,  1,  6,  1,  5,  5,  3,  4,\n",
       "        4,  1, 10,  8,  6,  6,  3,  6,  5,  5,  6,  9,  9,  8,  8,  1,  2,\n",
       "        7, 10,  1,  7,  4,  6,  4,  7, 10,  5,  6,  3,  6, 10,  1,  9,  6,\n",
       "        1,  5,  1,  3,  9,  7, 10,  8,  2,  1, 10,  3,  6, 10,  1, 10,  9,\n",
       "        5, 10,  7,  4,  7,  6, 10,  7,  3, 10,  7,  8,  2,  3,  5,  3, 10,\n",
       "        9,  3,  9,  6,  2,  5,  4,  7,  2,  6,  6,  1,  5,  4,  9,  9,  1,\n",
       "        7,  1, 10,  1,  8,  6,  6,  5,  4,  5,  1,  4,  4,  4,  6,  6,  6,\n",
       "       10,  5,  3,  8,  8,  2, 10,  7,  6,  9,  9,  9, 10,  1,  9,  4,  5,\n",
       "        3,  9,  7,  5,  8,  3,  3,  3,  5,  2,  9,  4,  2,  6, 10,  7,  2,\n",
       "        1,  3,  7,  1,  7,  2,  1,  3, 10,  6,  8,  4,  7,  5,  6,  7,  3,\n",
       "        5,  5,  9,  5, 10,  8,  9,  9,  6,  9,  9,  1,  3,  3,  7,  3,  9,\n",
       "        1,  4,  5,  5,  7, 10,  7,  1,  6,  3,  4,  1,  7,  8])"
      ]
     },
     "execution_count": 29,
     "metadata": {},
     "output_type": "execute_result"
    }
   ],
   "source": [
    "# Generate a list of random integers.\n",
    "rand_ints = rng.integers(low=low, high=high + 1, size=size)\n",
    "\n",
    "# Show.\n",
    "rand_ints"
   ]
  },
  {
   "cell_type": "code",
   "execution_count": 30,
   "metadata": {},
   "outputs": [
    {
     "data": {
      "text/plain": [
       "array([ 1.,  2.,  3.,  4.,  5.,  6.,  7.,  8.,  9., 10.])"
      ]
     },
     "execution_count": 30,
     "metadata": {},
     "output_type": "execute_result"
    }
   ],
   "source": [
    "# The range of x values\n",
    "x = np.arange(low, high + 1.0)\n",
    "\n",
    "# Show x\n",
    "x"
   ]
  },
  {
   "cell_type": "code",
   "execution_count": 31,
   "metadata": {},
   "outputs": [
    {
     "data": {
      "text/plain": [
       "array([ 1,  2,  3,  4,  5,  6,  7,  8,  9, 10])"
      ]
     },
     "execution_count": 31,
     "metadata": {},
     "output_type": "execute_result"
    }
   ],
   "source": [
    "# The range of x values\n",
    "x = np.arange(low, high + 1.0, dtype=int)\n",
    "\n",
    "# Show x\n",
    "x"
   ]
  },
  {
   "cell_type": "code",
   "execution_count": 32,
   "metadata": {},
   "outputs": [
    {
     "data": {
      "text/plain": [
       "array([ 1,  2,  3,  4,  5,  6,  7,  8,  9, 10])"
      ]
     },
     "execution_count": 32,
     "metadata": {},
     "output_type": "execute_result"
    }
   ],
   "source": [
    "# The unique elements of rand_ints.\n",
    "np.unique(rand_ints)"
   ]
  },
  {
   "cell_type": "code",
   "execution_count": 33,
   "metadata": {},
   "outputs": [
    {
     "data": {
      "text/plain": [
       "(array([ 1,  2,  3,  4,  5,  6,  7,  8,  9, 10]),\n",
       " array([120,  92, 114,  92, 106,  91,  89, 102,  96,  98]))"
      ]
     },
     "execution_count": 33,
     "metadata": {},
     "output_type": "execute_result"
    }
   ],
   "source": [
    "np.unique(rand_ints, return_counts=True)"
   ]
  },
  {
   "cell_type": "code",
   "execution_count": 34,
   "metadata": {},
   "outputs": [
    {
     "data": {
      "text/plain": [
       "(array([ 1,  2,  3,  4,  5,  6,  7,  8,  9, 10]),\n",
       " array([120,  92, 114,  92, 106,  91,  89, 102,  96,  98]))"
      ]
     },
     "execution_count": 34,
     "metadata": {},
     "output_type": "execute_result"
    }
   ],
   "source": [
    "# The unique elements of rand_ints, with counts. (how many times certain numbers appear)\n",
    "x, counts = np.unique(rand_ints, return_counts=True)\n",
    "\n",
    "# Show the x and counts arrays.\n",
    "x, counts"
   ]
  },
  {
   "cell_type": "code",
   "execution_count": 35,
   "metadata": {},
   "outputs": [
    {
     "data": {
      "image/png": "[encoded data removed]",
      "text/plain": [
       "<Figure size 640x480 with 1 Axes>"
      ]
     },
     "metadata": {},
     "output_type": "display_data"
    }
   ],
   "source": [
    "# Create an empty plot.\n",
    "fig, ax = plt.subplots()\n",
    "\n",
    "# Plot a bar chart.\n",
    "ax.bar(x, counts);\n",
    "\n",
    "# bar chart is suitable for discrete data (int), no decimal points"
   ]
  },
  {
   "cell_type": "code",
   "execution_count": 36,
   "metadata": {},
   "outputs": [
    {
     "data": {
      "image/png": "[encoded data removed]",
      "text/plain": [
       "<Figure size 640x480 with 1 Axes>"
      ]
     },
     "metadata": {},
     "output_type": "display_data"
    }
   ],
   "source": [
    "# Create an empty plot.\n",
    "fig, ax = plt.subplots()\n",
    "\n",
    "# Plot a bar chart.\n",
    "ax.bar([1, 2, 3], [20, 15, 50]);\n",
    "\n",
    "# bar chart is suitable for discrete data (int), no decimal points"
   ]
  },
  {
   "cell_type": "code",
   "execution_count": 37,
   "metadata": {},
   "outputs": [
    {
     "data": {
      "image/png": "[encoded data removed]",
      "text/plain": [
       "<Figure size 1200x300 with 1 Axes>"
      ]
     },
     "metadata": {},
     "output_type": "display_data"
    }
   ],
   "source": [
    "# Create an empty plot.\n",
    "fig, ax = plt.subplots(figsize=(12, 3))\n",
    "\n",
    "# Plot a bar chart. if u want to get uniform, just increase the number of integers to generate: eg 100000\n",
    "ax.bar(x, counts);\n",
    "\n"
   ]
  },
  {
   "cell_type": "markdown",
   "metadata": {},
   "source": [
    "## Plotting Histograms\n",
    "\n",
    "***"
   ]
  },
  {
   "cell_type": "code",
   "execution_count": 69,
   "metadata": {},
   "outputs": [],
   "source": [
    "# leave 0.0 and 1.0 as default\n",
    "# The number of floating points numbers to generate.\n",
    "size = 100000"
   ]
  },
  {
   "cell_type": "code",
   "execution_count": 70,
   "metadata": {},
   "outputs": [],
   "source": [
    "# Generate random floating point numbers in the interval 0.0 (included) to 1.0 (excluded). - default\n",
    "rand_floats = rng.random(size)\n",
    "\n",
    "# Show rand_floats.\n",
    "# rand_floats"
   ]
  },
  {
   "cell_type": "code",
   "execution_count": 57,
   "metadata": {},
   "outputs": [
    {
     "data": {
      "text/plain": [
       "(array([7.75067966e-04, 7.99698724e-04, 1.76107367e-03, 1.79333907e-03,\n",
       "        1.98396722e-03, 2.29082021e-03, 4.40683943e-03, 5.04820508e-03,\n",
       "        5.35572053e-03, 6.74778245e-03, 6.89189404e-03, 7.03364794e-03,\n",
       "        7.53578299e-03, 8.03404678e-03, 9.08961169e-03, 1.07754421e-02,\n",
       "        1.18360269e-02, 1.26727307e-02, 1.29771706e-02, 1.46932693e-02,\n",
       "        1.69932545e-02, 1.75361819e-02, 1.99975238e-02, 2.21908278e-02,\n",
       "        2.67486017e-02, 2.72294031e-02, 2.72856297e-02, 2.95630290e-02,\n",
       "        3.17029709e-02, 3.17556607e-02, 3.25776532e-02, 3.26919035e-02,\n",
       "        3.27969612e-02, 3.29557711e-02, 3.33488292e-02, 3.38916024e-02,\n",
       "        3.50867361e-02, 3.66502648e-02, 3.73914731e-02, 3.84402729e-02,\n",
       "        4.07669441e-02, 4.11090490e-02, 4.11531157e-02, 4.22010831e-02,\n",
       "        4.31320327e-02, 4.42504626e-02, 4.47903183e-02, 4.47912111e-02,\n",
       "        4.50582286e-02, 4.66744349e-02, 4.67310514e-02, 4.81827807e-02,\n",
       "        4.88162964e-02, 4.93030740e-02, 4.99238682e-02, 5.00314883e-02,\n",
       "        5.10529172e-02, 5.13282975e-02, 5.14228008e-02, 5.26803187e-02,\n",
       "        5.29184263e-02, 5.30307717e-02, 5.40934639e-02, 5.44856245e-02,\n",
       "        5.68901440e-02, 5.78449407e-02, 5.92889627e-02, 6.10092972e-02,\n",
       "        6.36813383e-02, 6.50372831e-02, 6.56487062e-02, 6.62289629e-02,\n",
       "        6.71260983e-02, 6.71376794e-02, 6.75508466e-02, 6.88929209e-02,\n",
       "        7.03180704e-02, 7.24620179e-02, 7.35450210e-02, 7.35537597e-02,\n",
       "        7.47754680e-02, 7.52861940e-02, 7.54184992e-02, 7.59183990e-02,\n",
       "        7.64707162e-02, 7.87695974e-02, 7.93658789e-02, 8.16561461e-02,\n",
       "        8.22901599e-02, 8.43332470e-02, 8.53700684e-02, 8.63751234e-02,\n",
       "        8.66857227e-02, 8.69461690e-02, 8.79475106e-02, 8.82923040e-02,\n",
       "        8.83962443e-02, 9.01692767e-02, 9.35433817e-02, 9.41612305e-02,\n",
       "        9.47131513e-02, 9.47251096e-02, 9.74700602e-02, 9.79411036e-02,\n",
       "        9.80868626e-02, 9.90157989e-02, 1.00440264e-01, 1.01553399e-01,\n",
       "        1.03322727e-01, 1.03842733e-01, 1.05659770e-01, 1.06423313e-01,\n",
       "        1.06493314e-01, 1.07444953e-01, 1.07476199e-01, 1.11289405e-01,\n",
       "        1.11461440e-01, 1.14206899e-01, 1.16146824e-01, 1.16565530e-01,\n",
       "        1.17240558e-01, 1.17286751e-01, 1.17733757e-01, 1.18104810e-01,\n",
       "        1.18693993e-01, 1.19899497e-01, 1.21664436e-01, 1.21807947e-01,\n",
       "        1.21871985e-01, 1.22330696e-01, 1.29169037e-01, 1.29378567e-01,\n",
       "        1.29511255e-01, 1.29935556e-01, 1.32471585e-01, 1.32545685e-01,\n",
       "        1.33435549e-01, 1.33835444e-01, 1.34583792e-01, 1.35480617e-01,\n",
       "        1.36417576e-01, 1.37273276e-01, 1.37897756e-01, 1.38046004e-01,\n",
       "        1.38925314e-01, 1.41289956e-01, 1.42036831e-01, 1.42293023e-01,\n",
       "        1.42361448e-01, 1.44790768e-01, 1.44993571e-01, 1.45342709e-01,\n",
       "        1.46897804e-01, 1.47479854e-01, 1.48122725e-01, 1.48268897e-01,\n",
       "        1.49082998e-01, 1.49412587e-01, 1.52346249e-01, 1.52865330e-01,\n",
       "        1.55132784e-01, 1.58525000e-01, 1.59962443e-01, 1.60609288e-01,\n",
       "        1.62088843e-01, 1.64944153e-01, 1.66118084e-01, 1.66796122e-01,\n",
       "        1.68264341e-01, 1.68980009e-01, 1.69543954e-01, 1.71107029e-01,\n",
       "        1.71292850e-01, 1.71435748e-01, 1.74957331e-01, 1.75723998e-01,\n",
       "        1.75883480e-01, 1.80387437e-01, 1.81908708e-01, 1.82394040e-01,\n",
       "        1.82471006e-01, 1.83240513e-01, 1.84982312e-01, 1.85880056e-01,\n",
       "        1.86212661e-01, 1.87644058e-01, 1.89567882e-01, 1.90490172e-01,\n",
       "        1.90794085e-01, 1.92032374e-01, 1.92261715e-01, 1.93806605e-01,\n",
       "        1.93889500e-01, 1.96034396e-01, 1.96221497e-01, 1.97634376e-01,\n",
       "        1.98296492e-01, 1.98912078e-01, 1.99444236e-01, 1.99699872e-01,\n",
       "        2.01252438e-01, 2.01464048e-01, 2.01849470e-01, 2.02491982e-01,\n",
       "        2.02856355e-01, 2.04142901e-01, 2.04354008e-01, 2.07216731e-01,\n",
       "        2.08331181e-01, 2.09824443e-01, 2.13246017e-01, 2.14332642e-01,\n",
       "        2.17747942e-01, 2.18067174e-01, 2.19364711e-01, 2.21206435e-01,\n",
       "        2.21232557e-01, 2.21828996e-01, 2.23585355e-01, 2.23921787e-01,\n",
       "        2.24102135e-01, 2.25539851e-01, 2.27459233e-01, 2.27786009e-01,\n",
       "        2.28716954e-01, 2.30384699e-01, 2.30491959e-01, 2.30566779e-01,\n",
       "        2.30687097e-01, 2.30776136e-01, 2.33642039e-01, 2.36037357e-01,\n",
       "        2.36515811e-01, 2.37221521e-01, 2.39097327e-01, 2.41039046e-01,\n",
       "        2.41102968e-01, 2.41709970e-01, 2.41760009e-01, 2.41989910e-01,\n",
       "        2.42434861e-01, 2.43160004e-01, 2.43955129e-01, 2.45298441e-01,\n",
       "        2.47994951e-01, 2.48013343e-01, 2.48039458e-01, 2.48340041e-01,\n",
       "        2.49609041e-01, 2.49818351e-01, 2.50709962e-01, 2.50778228e-01,\n",
       "        2.53298060e-01, 2.54662993e-01, 2.55912360e-01, 2.58352190e-01,\n",
       "        2.58704182e-01, 2.58802497e-01, 2.59377943e-01, 2.60557278e-01,\n",
       "        2.62211603e-01, 2.62766479e-01, 2.62883235e-01, 2.64319227e-01,\n",
       "        2.64547781e-01, 2.65312076e-01, 2.65360654e-01, 2.65631171e-01,\n",
       "        2.66995824e-01, 2.67627977e-01, 2.67718130e-01, 2.69322292e-01,\n",
       "        2.69973910e-01, 2.70549742e-01, 2.70930696e-01, 2.71267860e-01,\n",
       "        2.72184133e-01, 2.72473975e-01, 2.73387775e-01, 2.73875928e-01,\n",
       "        2.75595150e-01, 2.75669051e-01, 2.76580855e-01, 2.77418088e-01,\n",
       "        2.77673359e-01, 2.78162048e-01, 2.82095492e-01, 2.83367082e-01,\n",
       "        2.83754077e-01, 2.86563689e-01, 2.86651544e-01, 2.89664747e-01,\n",
       "        2.90647066e-01, 2.90818634e-01, 2.92500799e-01, 2.93759123e-01,\n",
       "        2.95075224e-01, 2.96383124e-01, 2.96406465e-01, 2.96411778e-01,\n",
       "        2.96486536e-01, 2.97831740e-01, 2.98155062e-01, 2.98778088e-01,\n",
       "        2.99240582e-01, 2.99488953e-01, 3.03341657e-01, 3.03699548e-01,\n",
       "        3.04265341e-01, 3.07484932e-01, 3.07974147e-01, 3.08568844e-01,\n",
       "        3.09098238e-01, 3.09575072e-01, 3.10002069e-01, 3.10428428e-01,\n",
       "        3.16022876e-01, 3.16367385e-01, 3.17043260e-01, 3.20564963e-01,\n",
       "        3.22074033e-01, 3.23804802e-01, 3.24468775e-01, 3.27303648e-01,\n",
       "        3.28096279e-01, 3.28695866e-01, 3.28827986e-01, 3.29611713e-01,\n",
       "        3.30060673e-01, 3.33224582e-01, 3.33535181e-01, 3.33983092e-01,\n",
       "        3.34898568e-01, 3.35272233e-01, 3.35481615e-01, 3.36233262e-01,\n",
       "        3.38518507e-01, 3.39702405e-01, 3.40628860e-01, 3.41829298e-01,\n",
       "        3.42831539e-01, 3.43359182e-01, 3.45187091e-01, 3.49248315e-01,\n",
       "        3.49858448e-01, 3.50070161e-01, 3.51735051e-01, 3.52085858e-01,\n",
       "        3.53567526e-01, 3.54684694e-01, 3.55623474e-01, 3.56633405e-01,\n",
       "        3.56946359e-01, 3.56971946e-01, 3.57392430e-01, 3.57798803e-01,\n",
       "        3.58482215e-01, 3.60310925e-01, 3.60376314e-01, 3.60988307e-01,\n",
       "        3.61361790e-01, 3.61500082e-01, 3.61619805e-01, 3.63051886e-01,\n",
       "        3.65766673e-01, 3.65871099e-01, 3.66728512e-01, 3.66987105e-01,\n",
       "        3.67240408e-01, 3.67577577e-01, 3.67951160e-01, 3.69387433e-01,\n",
       "        3.69544401e-01, 3.71114514e-01, 3.71420569e-01, 3.71689345e-01,\n",
       "        3.71889101e-01, 3.72323390e-01, 3.73615194e-01, 3.73792983e-01,\n",
       "        3.78342114e-01, 3.78462751e-01, 3.78493528e-01, 3.79889345e-01,\n",
       "        3.80471198e-01, 3.81779158e-01, 3.82592219e-01, 3.82769907e-01,\n",
       "        3.84747998e-01, 3.84939653e-01, 3.85090832e-01, 3.85123447e-01,\n",
       "        3.85392804e-01, 3.85664672e-01, 3.86086681e-01, 3.86467213e-01,\n",
       "        3.88644846e-01, 3.90777188e-01, 3.90822928e-01, 3.91384144e-01,\n",
       "        3.91926857e-01, 3.93003244e-01, 3.93803724e-01, 3.94914857e-01,\n",
       "        3.96634002e-01, 3.98537815e-01, 3.98857859e-01, 3.98880843e-01,\n",
       "        4.00642024e-01, 4.02478479e-01, 4.03889037e-01, 4.04382644e-01,\n",
       "        4.04462600e-01, 4.04646644e-01, 4.04815676e-01, 4.05566796e-01,\n",
       "        4.08729787e-01, 4.11858073e-01, 4.11872929e-01, 4.12311986e-01,\n",
       "        4.12774009e-01, 4.12953367e-01, 4.14375489e-01, 4.17848103e-01,\n",
       "        4.20832155e-01, 4.21452883e-01, 4.21784109e-01, 4.22568519e-01,\n",
       "        4.23510878e-01, 4.23866699e-01, 4.26924117e-01, 4.27051101e-01,\n",
       "        4.28299321e-01, 4.28742852e-01, 4.28775352e-01, 4.29082005e-01,\n",
       "        4.29869617e-01, 4.29933486e-01, 4.30398970e-01, 4.30470947e-01,\n",
       "        4.33203888e-01, 4.33638571e-01, 4.34908283e-01, 4.36145775e-01,\n",
       "        4.36737684e-01, 4.37462678e-01, 4.38233387e-01, 4.38631244e-01,\n",
       "        4.39830716e-01, 4.40297921e-01, 4.41012513e-01, 4.42199531e-01,\n",
       "        4.45305605e-01, 4.45455441e-01, 4.45504614e-01, 4.46571637e-01,\n",
       "        4.46882154e-01, 4.46995945e-01, 4.47404612e-01, 4.49308719e-01,\n",
       "        4.49314397e-01, 4.49684168e-01, 4.52209533e-01, 4.52230404e-01,\n",
       "        4.53424841e-01, 4.54341888e-01, 4.54977393e-01, 4.55292455e-01,\n",
       "        4.55560013e-01, 4.56349186e-01, 4.56402390e-01, 4.57195264e-01,\n",
       "        4.58417154e-01, 4.58824759e-01, 4.59437404e-01, 4.59982392e-01,\n",
       "        4.60645555e-01, 4.60744434e-01, 4.60841712e-01, 4.61954697e-01,\n",
       "        4.62775790e-01, 4.64922455e-01, 4.65120519e-01, 4.66572725e-01,\n",
       "        4.66692727e-01, 4.67249865e-01, 4.68727856e-01, 4.71107900e-01,\n",
       "        4.73324189e-01, 4.74926113e-01, 4.75666086e-01, 4.75843332e-01,\n",
       "        4.78195543e-01, 4.78791772e-01, 4.78812317e-01, 4.79395326e-01,\n",
       "        4.81218916e-01, 4.81474180e-01, 4.81861539e-01, 4.81904774e-01,\n",
       "        4.83652967e-01, 4.84023861e-01, 4.85944568e-01, 4.87228812e-01,\n",
       "        4.89004973e-01, 4.89184872e-01, 4.89475692e-01, 4.89486065e-01,\n",
       "        4.89534203e-01, 4.90384861e-01, 4.90679249e-01, 4.90866669e-01,\n",
       "        4.91093507e-01, 4.93247361e-01, 4.93604224e-01, 4.93751457e-01,\n",
       "        4.95800867e-01, 4.95944004e-01, 4.96464338e-01, 4.97839327e-01,\n",
       "        4.98791427e-01, 4.99151683e-01, 4.99555925e-01, 5.00703573e-01,\n",
       "        5.01671765e-01, 5.02120961e-01, 5.03401683e-01, 5.03897651e-01,\n",
       "        5.05684843e-01, 5.06118568e-01, 5.06154116e-01, 5.06696207e-01,\n",
       "        5.08312460e-01, 5.08779097e-01, 5.09972330e-01, 5.10051003e-01,\n",
       "        5.10404860e-01, 5.12599144e-01, 5.12804402e-01, 5.13926910e-01,\n",
       "        5.13991997e-01, 5.14500047e-01, 5.15016066e-01, 5.15958924e-01,\n",
       "        5.17046907e-01, 5.17102288e-01, 5.17192583e-01, 5.18557524e-01,\n",
       "        5.19215020e-01, 5.19418671e-01, 5.20785792e-01, 5.23823549e-01,\n",
       "        5.23895004e-01, 5.24857522e-01, 5.26694198e-01, 5.26827766e-01,\n",
       "        5.28417743e-01, 5.33135138e-01, 5.33144964e-01, 5.33317877e-01,\n",
       "        5.33544233e-01, 5.33776393e-01, 5.34080467e-01, 5.34241459e-01,\n",
       "        5.34757794e-01, 5.36928294e-01, 5.37754911e-01, 5.39376680e-01,\n",
       "        5.40859662e-01, 5.40918723e-01, 5.41889679e-01, 5.42096773e-01,\n",
       "        5.42191952e-01, 5.42610291e-01, 5.43375593e-01, 5.43887795e-01,\n",
       "        5.44410212e-01, 5.45221408e-01, 5.48660787e-01, 5.50120649e-01,\n",
       "        5.51964701e-01, 5.52033311e-01, 5.54038509e-01, 5.54043471e-01,\n",
       "        5.54523571e-01, 5.57160604e-01, 5.57899559e-01, 5.59195472e-01,\n",
       "        5.60137937e-01, 5.60143886e-01, 5.60363693e-01, 5.61582945e-01,\n",
       "        5.64274281e-01, 5.66407311e-01, 5.68090794e-01, 5.69404288e-01,\n",
       "        5.71068717e-01, 5.72856289e-01, 5.73641784e-01, 5.76520160e-01,\n",
       "        5.76641602e-01, 5.77529359e-01, 5.77780345e-01, 5.78282238e-01,\n",
       "        5.79164163e-01, 5.79742690e-01, 5.80434824e-01, 5.80555895e-01,\n",
       "        5.83023214e-01, 5.83319989e-01, 5.83793294e-01, 5.84585349e-01,\n",
       "        5.85584539e-01, 5.85830760e-01, 5.89192552e-01, 5.93686876e-01,\n",
       "        5.94545015e-01, 5.94891648e-01, 5.95786939e-01, 5.97361234e-01,\n",
       "        5.97565791e-01, 5.98301898e-01, 5.98422575e-01, 5.99605860e-01,\n",
       "        6.00729902e-01, 6.01153169e-01, 6.02106905e-01, 6.04062279e-01,\n",
       "        6.04576542e-01, 6.04992037e-01, 6.05311398e-01, 6.05947914e-01,\n",
       "        6.06691309e-01, 6.07287719e-01, 6.07318761e-01, 6.07975825e-01,\n",
       "        6.08498670e-01, 6.09000215e-01, 6.09035268e-01, 6.09178477e-01,\n",
       "        6.09388311e-01, 6.10660171e-01, 6.10868533e-01, 6.11092070e-01,\n",
       "        6.11668576e-01, 6.12212914e-01, 6.13223034e-01, 6.17046158e-01,\n",
       "        6.17345089e-01, 6.18041042e-01, 6.19178941e-01, 6.21516697e-01,\n",
       "        6.25496100e-01, 6.30692815e-01, 6.31867376e-01, 6.32148993e-01,\n",
       "        6.35561118e-01, 6.36171293e-01, 6.36839036e-01, 6.36987493e-01,\n",
       "        6.37636565e-01, 6.38147262e-01, 6.38409144e-01, 6.39851801e-01,\n",
       "        6.40591983e-01, 6.41790581e-01, 6.42346527e-01, 6.44305137e-01,\n",
       "        6.46809543e-01, 6.46833729e-01, 6.47460908e-01, 6.47730401e-01,\n",
       "        6.48392081e-01, 6.48676885e-01, 6.50799319e-01, 6.51967458e-01,\n",
       "        6.53633912e-01, 6.54045134e-01, 6.56734236e-01, 6.57769458e-01,\n",
       "        6.61398484e-01, 6.61449665e-01, 6.62204452e-01, 6.63245093e-01,\n",
       "        6.64902922e-01, 6.65514361e-01, 6.66623590e-01, 6.66685191e-01,\n",
       "        6.67849500e-01, 6.70314698e-01, 6.70329522e-01, 6.71650622e-01,\n",
       "        6.77859932e-01, 6.78031381e-01, 6.79760301e-01, 6.80393650e-01,\n",
       "        6.81657646e-01, 6.82347854e-01, 6.83527573e-01, 6.85131697e-01,\n",
       "        6.86081333e-01, 6.90058044e-01, 6.91481264e-01, 6.92123198e-01,\n",
       "        6.92948156e-01, 6.95256763e-01, 6.95545492e-01, 6.95835375e-01,\n",
       "        6.97348659e-01, 6.99386532e-01, 6.99604658e-01, 6.99605902e-01,\n",
       "        6.99664775e-01, 7.00770012e-01, 7.01275341e-01, 7.02286403e-01,\n",
       "        7.04104452e-01, 7.04494094e-01, 7.04625462e-01, 7.04810176e-01,\n",
       "        7.05478455e-01, 7.06960078e-01, 7.07342813e-01, 7.08801007e-01,\n",
       "        7.10679531e-01, 7.13189569e-01, 7.13748891e-01, 7.13764271e-01,\n",
       "        7.13855323e-01, 7.14042926e-01, 7.21563311e-01, 7.21710912e-01,\n",
       "        7.24260470e-01, 7.24646767e-01, 7.26902734e-01, 7.29295930e-01,\n",
       "        7.30229143e-01, 7.30358124e-01, 7.30384300e-01, 7.31030660e-01,\n",
       "        7.32695807e-01, 7.34135327e-01, 7.36519635e-01, 7.37231460e-01,\n",
       "        7.38633555e-01, 7.39686338e-01, 7.39876571e-01, 7.40112053e-01,\n",
       "        7.40602718e-01, 7.41135964e-01, 7.41917953e-01, 7.42026114e-01,\n",
       "        7.42030847e-01, 7.44344956e-01, 7.45644538e-01, 7.48464810e-01,\n",
       "        7.49054274e-01, 7.49202781e-01, 7.49359756e-01, 7.49743628e-01,\n",
       "        7.50145198e-01, 7.51325878e-01, 7.52751512e-01, 7.53042546e-01,\n",
       "        7.55094092e-01, 7.55556451e-01, 7.59195198e-01, 7.60318831e-01,\n",
       "        7.62514242e-01, 7.63733733e-01, 7.64952787e-01, 7.68094776e-01,\n",
       "        7.68190927e-01, 7.70426480e-01, 7.71230638e-01, 7.72574330e-01,\n",
       "        7.74307163e-01, 7.74441520e-01, 7.74592157e-01, 7.75451778e-01,\n",
       "        7.75825273e-01, 7.76152356e-01, 7.76191114e-01, 7.78256741e-01,\n",
       "        7.78730864e-01, 7.80127815e-01, 7.80641246e-01, 7.81573582e-01,\n",
       "        7.82631828e-01, 7.86387326e-01, 7.86482684e-01, 7.86664121e-01,\n",
       "        7.87240917e-01, 7.87904485e-01, 7.89330893e-01, 7.89612432e-01,\n",
       "        7.91242863e-01, 7.91705420e-01, 7.92739750e-01, 7.93630626e-01,\n",
       "        7.94447325e-01, 7.94914651e-01, 7.96740470e-01, 7.99153138e-01,\n",
       "        7.99223400e-01, 7.99554447e-01, 7.99608932e-01, 8.00113122e-01,\n",
       "        8.00346423e-01, 8.00422936e-01, 8.01496804e-01, 8.01898182e-01,\n",
       "        8.03774553e-01, 8.03859275e-01, 8.04512680e-01, 8.05172427e-01,\n",
       "        8.05468825e-01, 8.06877411e-01, 8.07897442e-01, 8.08097493e-01,\n",
       "        8.08716575e-01, 8.08926105e-01, 8.10525445e-01, 8.10969219e-01,\n",
       "        8.11281346e-01, 8.11339776e-01, 8.13622161e-01, 8.15185958e-01,\n",
       "        8.18745250e-01, 8.19491390e-01, 8.19650004e-01, 8.22023846e-01,\n",
       "        8.22152037e-01, 8.23529566e-01, 8.24002176e-01, 8.24199788e-01,\n",
       "        8.24583533e-01, 8.24684572e-01, 8.26674176e-01, 8.27575221e-01,\n",
       "        8.27655436e-01, 8.30977766e-01, 8.31510399e-01, 8.34188964e-01,\n",
       "        8.35147566e-01, 8.35451993e-01, 8.35650403e-01, 8.36059703e-01,\n",
       "        8.36533352e-01, 8.36592388e-01, 8.38952430e-01, 8.42259369e-01,\n",
       "        8.42409417e-01, 8.44142396e-01, 8.44668365e-01, 8.47874364e-01,\n",
       "        8.48266775e-01, 8.49866041e-01, 8.50875342e-01, 8.50929971e-01,\n",
       "        8.56733880e-01, 8.56873669e-01, 8.58638212e-01, 8.60318870e-01,\n",
       "        8.60470915e-01, 8.61239143e-01, 8.62880493e-01, 8.62909761e-01,\n",
       "        8.64467435e-01, 8.64524188e-01, 8.68779731e-01, 8.70871595e-01,\n",
       "        8.71024799e-01, 8.71646632e-01, 8.71830152e-01, 8.75133964e-01,\n",
       "        8.75477987e-01, 8.75657355e-01, 8.76062310e-01, 8.76752073e-01,\n",
       "        8.78263870e-01, 8.80270830e-01, 8.81505243e-01, 8.81916143e-01,\n",
       "        8.84009046e-01, 8.84634062e-01, 8.84834438e-01, 8.86155698e-01,\n",
       "        8.87226296e-01, 8.88145361e-01, 8.88529949e-01, 8.88988823e-01,\n",
       "        8.89975202e-01, 8.90387288e-01, 8.91928957e-01, 8.93513670e-01,\n",
       "        8.94876503e-01, 8.95730321e-01, 8.96415466e-01, 8.97529893e-01,\n",
       "        8.97926036e-01, 8.98865661e-01, 8.99299192e-01, 8.99312171e-01,\n",
       "        8.99484761e-01, 8.99607475e-01, 8.99666092e-01, 9.00770208e-01,\n",
       "        9.03726365e-01, 9.04161629e-01, 9.04611322e-01, 9.05627103e-01,\n",
       "        9.06147111e-01, 9.12025618e-01, 9.13365454e-01, 9.14110885e-01,\n",
       "        9.17188890e-01, 9.17226569e-01, 9.17341110e-01, 9.18118110e-01,\n",
       "        9.18133148e-01, 9.19050022e-01, 9.19730286e-01, 9.19882616e-01,\n",
       "        9.22850425e-01, 9.22882949e-01, 9.23294465e-01, 9.23750016e-01,\n",
       "        9.24955666e-01, 9.25072197e-01, 9.26109064e-01, 9.27219449e-01,\n",
       "        9.27328715e-01, 9.27583372e-01, 9.31012926e-01, 9.31293301e-01,\n",
       "        9.32069505e-01, 9.32255698e-01, 9.32941265e-01, 9.35642926e-01,\n",
       "        9.35881239e-01, 9.35953884e-01, 9.36121197e-01, 9.37482406e-01,\n",
       "        9.37588310e-01, 9.38135519e-01, 9.39147021e-01, 9.40398832e-01,\n",
       "        9.40950149e-01, 9.42559326e-01, 9.43094398e-01, 9.43750933e-01,\n",
       "        9.44880678e-01, 9.47446374e-01, 9.50373595e-01, 9.50737012e-01,\n",
       "        9.51641317e-01, 9.52879838e-01, 9.53926195e-01, 9.55695801e-01,\n",
       "        9.57859303e-01, 9.57897929e-01, 9.57917320e-01, 9.58331376e-01,\n",
       "        9.59121044e-01, 9.60605413e-01, 9.61113815e-01, 9.61562219e-01,\n",
       "        9.62404588e-01, 9.62471822e-01, 9.63507391e-01, 9.64217587e-01,\n",
       "        9.68444361e-01, 9.68606621e-01, 9.70707409e-01, 9.71491870e-01,\n",
       "        9.72509560e-01, 9.76602612e-01, 9.77486172e-01, 9.78651990e-01,\n",
       "        9.78832392e-01, 9.79066074e-01, 9.79789347e-01, 9.79968806e-01,\n",
       "        9.83529253e-01, 9.87511479e-01, 9.88019558e-01, 9.89588465e-01,\n",
       "        9.89777691e-01, 9.91461812e-01, 9.93380940e-01, 9.95385621e-01,\n",
       "        9.96619510e-01, 9.97016317e-01, 9.97544114e-01, 9.98422767e-01,\n",
       "        9.98744795e-01, 9.98918905e-01, 9.99612151e-01, 9.99819481e-01]),\n",
       " array([1, 1, 1, 1, 1, 1, 1, 1, 1, 1, 1, 1, 1, 1, 1, 1, 1, 1, 1, 1, 1, 1,\n",
       "        1, 1, 1, 1, 1, 1, 1, 1, 1, 1, 1, 1, 1, 1, 1, 1, 1, 1, 1, 1, 1, 1,\n",
       "        1, 1, 1, 1, 1, 1, 1, 1, 1, 1, 1, 1, 1, 1, 1, 1, 1, 1, 1, 1, 1, 1,\n",
       "        1, 1, 1, 1, 1, 1, 1, 1, 1, 1, 1, 1, 1, 1, 1, 1, 1, 1, 1, 1, 1, 1,\n",
       "        1, 1, 1, 1, 1, 1, 1, 1, 1, 1, 1, 1, 1, 1, 1, 1, 1, 1, 1, 1, 1, 1,\n",
       "        1, 1, 1, 1, 1, 1, 1, 1, 1, 1, 1, 1, 1, 1, 1, 1, 1, 1, 1, 1, 1, 1,\n",
       "        1, 1, 1, 1, 1, 1, 1, 1, 1, 1, 1, 1, 1, 1, 1, 1, 1, 1, 1, 1, 1, 1,\n",
       "        1, 1, 1, 1, 1, 1, 1, 1, 1, 1, 1, 1, 1, 1, 1, 1, 1, 1, 1, 1, 1, 1,\n",
       "        1, 1, 1, 1, 1, 1, 1, 1, 1, 1, 1, 1, 1, 1, 1, 1, 1, 1, 1, 1, 1, 1,\n",
       "        1, 1, 1, 1, 1, 1, 1, 1, 1, 1, 1, 1, 1, 1, 1, 1, 1, 1, 1, 1, 1, 1,\n",
       "        1, 1, 1, 1, 1, 1, 1, 1, 1, 1, 1, 1, 1, 1, 1, 1, 1, 1, 1, 1, 1, 1,\n",
       "        1, 1, 1, 1, 1, 1, 1, 1, 1, 1, 1, 1, 1, 1, 1, 1, 1, 1, 1, 1, 1, 1,\n",
       "        1, 1, 1, 1, 1, 1, 1, 1, 1, 1, 1, 1, 1, 1, 1, 1, 1, 1, 1, 1, 1, 1,\n",
       "        1, 1, 1, 1, 1, 1, 1, 1, 1, 1, 1, 1, 1, 1, 1, 1, 1, 1, 1, 1, 1, 1,\n",
       "        1, 1, 1, 1, 1, 1, 1, 1, 1, 1, 1, 1, 1, 1, 1, 1, 1, 1, 1, 1, 1, 1,\n",
       "        1, 1, 1, 1, 1, 1, 1, 1, 1, 1, 1, 1, 1, 1, 1, 1, 1, 1, 1, 1, 1, 1,\n",
       "        1, 1, 1, 1, 1, 1, 1, 1, 1, 1, 1, 1, 1, 1, 1, 1, 1, 1, 1, 1, 1, 1,\n",
       "        1, 1, 1, 1, 1, 1, 1, 1, 1, 1, 1, 1, 1, 1, 1, 1, 1, 1, 1, 1, 1, 1,\n",
       "        1, 1, 1, 1, 1, 1, 1, 1, 1, 1, 1, 1, 1, 1, 1, 1, 1, 1, 1, 1, 1, 1,\n",
       "        1, 1, 1, 1, 1, 1, 1, 1, 1, 1, 1, 1, 1, 1, 1, 1, 1, 1, 1, 1, 1, 1,\n",
       "        1, 1, 1, 1, 1, 1, 1, 1, 1, 1, 1, 1, 1, 1, 1, 1, 1, 1, 1, 1, 1, 1,\n",
       "        1, 1, 1, 1, 1, 1, 1, 1, 1, 1, 1, 1, 1, 1, 1, 1, 1, 1, 1, 1, 1, 1,\n",
       "        1, 1, 1, 1, 1, 1, 1, 1, 1, 1, 1, 1, 1, 1, 1, 1, 1, 1, 1, 1, 1, 1,\n",
       "        1, 1, 1, 1, 1, 1, 1, 1, 1, 1, 1, 1, 1, 1, 1, 1, 1, 1, 1, 1, 1, 1,\n",
       "        1, 1, 1, 1, 1, 1, 1, 1, 1, 1, 1, 1, 1, 1, 1, 1, 1, 1, 1, 1, 1, 1,\n",
       "        1, 1, 1, 1, 1, 1, 1, 1, 1, 1, 1, 1, 1, 1, 1, 1, 1, 1, 1, 1, 1, 1,\n",
       "        1, 1, 1, 1, 1, 1, 1, 1, 1, 1, 1, 1, 1, 1, 1, 1, 1, 1, 1, 1, 1, 1,\n",
       "        1, 1, 1, 1, 1, 1, 1, 1, 1, 1, 1, 1, 1, 1, 1, 1, 1, 1, 1, 1, 1, 1,\n",
       "        1, 1, 1, 1, 1, 1, 1, 1, 1, 1, 1, 1, 1, 1, 1, 1, 1, 1, 1, 1, 1, 1,\n",
       "        1, 1, 1, 1, 1, 1, 1, 1, 1, 1, 1, 1, 1, 1, 1, 1, 1, 1, 1, 1, 1, 1,\n",
       "        1, 1, 1, 1, 1, 1, 1, 1, 1, 1, 1, 1, 1, 1, 1, 1, 1, 1, 1, 1, 1, 1,\n",
       "        1, 1, 1, 1, 1, 1, 1, 1, 1, 1, 1, 1, 1, 1, 1, 1, 1, 1, 1, 1, 1, 1,\n",
       "        1, 1, 1, 1, 1, 1, 1, 1, 1, 1, 1, 1, 1, 1, 1, 1, 1, 1, 1, 1, 1, 1,\n",
       "        1, 1, 1, 1, 1, 1, 1, 1, 1, 1, 1, 1, 1, 1, 1, 1, 1, 1, 1, 1, 1, 1,\n",
       "        1, 1, 1, 1, 1, 1, 1, 1, 1, 1, 1, 1, 1, 1, 1, 1, 1, 1, 1, 1, 1, 1,\n",
       "        1, 1, 1, 1, 1, 1, 1, 1, 1, 1, 1, 1, 1, 1, 1, 1, 1, 1, 1, 1, 1, 1,\n",
       "        1, 1, 1, 1, 1, 1, 1, 1, 1, 1, 1, 1, 1, 1, 1, 1, 1, 1, 1, 1, 1, 1,\n",
       "        1, 1, 1, 1, 1, 1, 1, 1, 1, 1, 1, 1, 1, 1, 1, 1, 1, 1, 1, 1, 1, 1,\n",
       "        1, 1, 1, 1, 1, 1, 1, 1, 1, 1, 1, 1, 1, 1, 1, 1, 1, 1, 1, 1, 1, 1,\n",
       "        1, 1, 1, 1, 1, 1, 1, 1, 1, 1, 1, 1, 1, 1, 1, 1, 1, 1, 1, 1, 1, 1,\n",
       "        1, 1, 1, 1, 1, 1, 1, 1, 1, 1, 1, 1, 1, 1, 1, 1, 1, 1, 1, 1, 1, 1,\n",
       "        1, 1, 1, 1, 1, 1, 1, 1, 1, 1, 1, 1, 1, 1, 1, 1, 1, 1, 1, 1, 1, 1,\n",
       "        1, 1, 1, 1, 1, 1, 1, 1, 1, 1, 1, 1, 1, 1, 1, 1, 1, 1, 1, 1, 1, 1,\n",
       "        1, 1, 1, 1, 1, 1, 1, 1, 1, 1, 1, 1, 1, 1, 1, 1, 1, 1, 1, 1, 1, 1,\n",
       "        1, 1, 1, 1, 1, 1, 1, 1, 1, 1, 1, 1, 1, 1, 1, 1, 1, 1, 1, 1, 1, 1,\n",
       "        1, 1, 1, 1, 1, 1, 1, 1, 1, 1]))"
      ]
     },
     "execution_count": 57,
     "metadata": {},
     "output_type": "execute_result"
    }
   ],
   "source": [
    "# # The unique elements of rand_ints, with counts. (how many times certain numbers appear)\n",
    "# x, counts = np.unique(rand_floats, return_counts=True)\n",
    "\n",
    "# # Show the x and counts arrays.\n",
    "# x, counts"
   ]
  },
  {
   "cell_type": "code",
   "execution_count": 52,
   "metadata": {},
   "outputs": [
    {
     "data": {
      "image/png": "[encoded data removed]",
      "text/plain": [
       "<Figure size 1200x300 with 1 Axes>"
      ]
     },
     "metadata": {},
     "output_type": "display_data"
    }
   ],
   "source": [
    "# # the fact that u have an array [1,1,1,.....] is worrying. Cant plot this in a histogram\n",
    "# # DONT DO THIS\n",
    "# # Create an empty plot.\n",
    "# fig, ax = plt.subplots(figsize=(12, 3))\n",
    "\n",
    "# # Plot a bar chart - it's useless.\n",
    "# ax.bar(x, counts);"
   ]
  },
  {
   "cell_type": "code",
   "execution_count": 53,
   "metadata": {},
   "outputs": [
    {
     "data": {
      "image/png": "[encoded data removed]",
      "text/plain": [
       "<Figure size 1200x300 with 1 Axes>"
      ]
     },
     "metadata": {},
     "output_type": "display_data"
    }
   ],
   "source": [
    "# # DONT DO THIS EITHER\n",
    "# # Create an empty plot.\n",
    "# fig, ax = plt.subplots(figsize=(12, 3))\n",
    "\n",
    "# # Plot a  bar chart - it's useless.\n",
    "# ax.bar(x, counts, width=0.001);"
   ]
  },
  {
   "cell_type": "code",
   "execution_count": 73,
   "metadata": {},
   "outputs": [
    {
     "data": {
      "image/png": "[encoded data removed]",
      "text/plain": [
       "<Figure size 1200x300 with 1 Axes>"
      ]
     },
     "metadata": {},
     "output_type": "display_data"
    }
   ],
   "source": [
    "# SO, PLOT A HISTOGRAM INSTEAD\n",
    "# Create an empty plot.\n",
    "fig, ax = plt.subplots(figsize=(12, 3))\n",
    "\n",
    "# Plot a histogram. -CHOPS THE INTERVALS INTO BINS\n",
    "#ax.hist(rand_floats); # will look uniform # default bin is 10\n",
    "ax.hist(rand_floats, bins=100); \n",
    "\n",
    "# SO HISTOGRAM IS MORE APPROPRIATE FOR FLOATING-POINT NUMBERS"
   ]
  },
  {
   "cell_type": "markdown",
   "metadata": {},
   "source": [
    "## Normal Looking Data\n",
    "\n",
    "***"
   ]
  },
  {
   "cell_type": "code",
   "execution_count": 43,
   "metadata": {},
   "outputs": [],
   "source": [
    "# Generate numbers on a standard Normal distribution.\n",
    "rand_normal = rng.standard_normal(100000)"
   ]
  },
  {
   "cell_type": "code",
   "execution_count": 44,
   "metadata": {},
   "outputs": [
    {
     "data": {
      "image/png": "[encoded data removed]",
      "text/plain": [
       "<Figure size 1200x300 with 1 Axes>"
      ]
     },
     "metadata": {},
     "output_type": "display_data"
    }
   ],
   "source": [
    "# Create an empty plot.\n",
    "fig, ax = plt.subplots(figsize=(12, 3))\n",
    "\n",
    "# Plot a histogram.\n",
    "ax.hist(rand_normal, bins=100, density=True);"
   ]
  },
  {
   "cell_type": "markdown",
   "metadata": {},
   "source": [
    "## Two Plots in One\n",
    "\n",
    "***"
   ]
  },
  {
   "cell_type": "markdown",
   "metadata": {},
   "source": [
    "**Normal PDF**\n",
    "\n",
    "$$ f(x) = \\frac{1}{\\sigma \\sqrt{2 \\pi}} e^{-\\frac{1}{2}\\big( \\frac{x - \\mu}{\\sigma} \\big)^2} $$\n",
    "\n"
   ]
  },
  {
   "cell_type": "markdown",
   "metadata": {},
   "source": [
    "**Standard Normal PDF**\n",
    "\n",
    "$$ f(x) = \\frac{1}{\\sqrt{2 \\pi}} e^{-\\frac{x^2}{2}} $$\n",
    "\n"
   ]
  },
  {
   "cell_type": "code",
   "execution_count": 45,
   "metadata": {},
   "outputs": [],
   "source": [
    "# x should be a numpy array.\n",
    "def f(x):\n",
    "  A = 1.0 / np.sqrt(2.0 * np.pi)\n",
    "  B = np.exp(-(x**2) / 2.0)\n",
    "  return A * B"
   ]
  },
  {
   "cell_type": "code",
   "execution_count": 46,
   "metadata": {},
   "outputs": [
    {
     "data": {
      "text/plain": [
       "0.3989422804014327"
      ]
     },
     "execution_count": 46,
     "metadata": {},
     "output_type": "execute_result"
    }
   ],
   "source": [
    "# Test value around 0.0.\n",
    "f(0.0)"
   ]
  },
  {
   "cell_type": "code",
   "execution_count": 47,
   "metadata": {},
   "outputs": [
    {
     "data": {
      "text/plain": [
       "0.0044318484119380075"
      ]
     },
     "execution_count": 47,
     "metadata": {},
     "output_type": "execute_result"
    }
   ],
   "source": [
    "# Test value around 3.0.\n",
    "f(3.0)"
   ]
  },
  {
   "cell_type": "code",
   "execution_count": 48,
   "metadata": {},
   "outputs": [
    {
     "data": {
      "image/png": "[encoded data removed]",
      "text/plain": [
       "<Figure size 1200x400 with 1 Axes>"
      ]
     },
     "metadata": {},
     "output_type": "display_data"
    }
   ],
   "source": [
    "# Range of x values for plotting.\n",
    "x = np.linspace(-5.0, 5.0, 1001)\n",
    "\n",
    "# Create empty plot.\n",
    "fig, ax = plt.subplots(figsize=(12, 4))\n",
    "\n",
    "# Plot f(x).\n",
    "ax.plot(x, f(x));"
   ]
  },
  {
   "cell_type": "code",
   "execution_count": 49,
   "metadata": {},
   "outputs": [
    {
     "data": {
      "image/png": "[encoded data removed]",
      "text/plain": [
       "<Figure size 1200x400 with 1 Axes>"
      ]
     },
     "metadata": {},
     "output_type": "display_data"
    }
   ],
   "source": [
    "# Range of x values for plotting.\n",
    "x = np.linspace(-5.0, 5.0, 1001)\n",
    "\n",
    "# Create empty plot.\n",
    "fig, ax = plt.subplots(figsize=(12, 4))\n",
    "\n",
    "# Plot histogram of randomly generated normal values from above.\n",
    "ax.hist(rand_normal, bins=100, density=True)\n",
    "\n",
    "# Plot f(x).\n",
    "ax.plot(x, f(x));"
   ]
  },
  {
   "cell_type": "markdown",
   "metadata": {},
   "source": [
    "***\n",
    "\n",
    "#### End"
   ]
  }
 ],
 "metadata": {
  "kernelspec": {
   "display_name": "base",
   "language": "python",
   "name": "python3"
  },
  "language_info": {
   "codemirror_mode": {
    "name": "ipython",
    "version": 3
   },
   "file_extension": ".py",
   "mimetype": "text/x-python",
   "name": "python",
   "nbconvert_exporter": "python",
   "pygments_lexer": "ipython3",
   "version": "3.11.5"
  },
  "orig_nbformat": 4
 },
 "nbformat": 4,
 "nbformat_minor": 2
}
