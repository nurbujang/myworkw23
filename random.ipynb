{
 "cells": [
  {
   "cell_type": "markdown",
   "metadata": {},
   "source": [
    "# Random Numbers in numpy\n",
    "\n",
    "***"
   ]
  },
  {
   "cell_type": "code",
   "execution_count": 53,
   "metadata": {},
   "outputs": [],
   "source": [
    "# Numerical arrays, random numbers.\n",
    "import numpy as np\n",
    "\n",
    "# Plots.\n",
    "import matplotlib.pyplot as plt"
   ]
  },
  {
   "cell_type": "markdown",
   "metadata": {},
   "source": [
    "## Python Standard Library\n",
    "\n",
    "https://docs.python.org/3/library/random.html\n",
    "\n",
    "https://numpy.org/doc/stable/reference/random/index.html\n",
    "\n",
    "***"
   ]
  },
  {
   "cell_type": "code",
   "execution_count": 54,
   "metadata": {},
   "outputs": [],
   "source": [
    "# The random module from the standard library.\n",
    "import random"
   ]
  },
  {
   "cell_type": "code",
   "execution_count": 55,
   "metadata": {},
   "outputs": [
    {
     "name": "stdout",
     "output_type": "stream",
     "text": [
      "\u001b[0;31mSignature:\u001b[0m \u001b[0mrandom\u001b[0m\u001b[0;34m.\u001b[0m\u001b[0mrandint\u001b[0m\u001b[0;34m(\u001b[0m\u001b[0ma\u001b[0m\u001b[0;34m,\u001b[0m \u001b[0mb\u001b[0m\u001b[0;34m)\u001b[0m\u001b[0;34m\u001b[0m\u001b[0;34m\u001b[0m\u001b[0m\n",
      "\u001b[0;31mDocstring:\u001b[0m\n",
      "Return random integer in range [a, b], including both end points.\n",
      "        \n",
      "\u001b[0;31mFile:\u001b[0m      ~/anaconda3/envs/base_3.11/lib/python3.11/random.py\n",
      "\u001b[0;31mType:\u001b[0m      method"
     ]
    }
   ],
   "source": [
    "# Using autocomplete, we can a get a flavour of the module.\n",
    "# Putting a question mark in front of a function name prints\n",
    "# a little help message.\n",
    "?random.randint"
   ]
  },
  {
   "cell_type": "code",
   "execution_count": 56,
   "metadata": {},
   "outputs": [
    {
     "data": {
      "text/plain": [
       "17"
      ]
     },
     "execution_count": 56,
     "metadata": {},
     "output_type": "execute_result"
    }
   ],
   "source": [
    "# Based on the above, we can generate a random integer between\n",
    "# 10 and 20, inclusive.\n",
    "random.randint(10, 20)"
   ]
  },
  {
   "cell_type": "code",
   "execution_count": 57,
   "metadata": {},
   "outputs": [
    {
     "data": {
      "text/plain": [
       "[7, 4, 5, 10, 8, 9, 7, 4, 7, 8]"
      ]
     },
     "execution_count": 57,
     "metadata": {},
     "output_type": "execute_result"
    }
   ],
   "source": [
    "# Generate a list of 100 random integers between 1 and 10.\n",
    "L = [random.randint(1, 10) for i in range(100)] # list comprehensions, loop through 0-99\n",
    "\n",
    "# Show the first ten items of L.\n",
    "L[:10]"
   ]
  },
  {
   "cell_type": "code",
   "execution_count": 58,
   "metadata": {},
   "outputs": [],
   "source": [
    "# List of car makes.\n",
    "makes = ['Toyota', 'Skoda', 'Ford', 'Renault']"
   ]
  },
  {
   "cell_type": "code",
   "execution_count": 59,
   "metadata": {},
   "outputs": [
    {
     "data": {
      "text/plain": [
       "'Toyota'"
      ]
     },
     "execution_count": 59,
     "metadata": {},
     "output_type": "execute_result"
    }
   ],
   "source": [
    "# Select one at random.\n",
    "random.choice(makes)"
   ]
  },
  {
   "cell_type": "code",
   "execution_count": 60,
   "metadata": {},
   "outputs": [
    {
     "data": {
      "text/plain": [
       "['Toyota',\n",
       " 'Ford',\n",
       " 'Renault',\n",
       " 'Toyota',\n",
       " 'Toyota',\n",
       " 'Renault',\n",
       " 'Ford',\n",
       " 'Renault',\n",
       " 'Toyota',\n",
       " 'Toyota']"
      ]
     },
     "execution_count": 60,
     "metadata": {},
     "output_type": "execute_result"
    }
   ],
   "source": [
    "# Select ten random makes (with replacement).\n",
    "random.choices(makes, k=10)"
   ]
  },
  {
   "cell_type": "code",
   "execution_count": 61,
   "metadata": {},
   "outputs": [],
   "source": [
    "# First eight letters.\n",
    "letters = ['A', 'B', 'C', 'D', 'E', 'F', 'G', 'H']"
   ]
  },
  {
   "cell_type": "code",
   "execution_count": 62,
   "metadata": {},
   "outputs": [],
   "source": [
    "# Shuffle them.\n",
    "random.shuffle(letters)"
   ]
  },
  {
   "cell_type": "code",
   "execution_count": 63,
   "metadata": {},
   "outputs": [
    {
     "data": {
      "text/plain": [
       "['H', 'D', 'B', 'E', 'C', 'A', 'G', 'F']"
      ]
     },
     "execution_count": 63,
     "metadata": {},
     "output_type": "execute_result"
    }
   ],
   "source": [
    "# Look at letters after shuffle.\n",
    "letters"
   ]
  },
  {
   "cell_type": "code",
   "execution_count": 64,
   "metadata": {},
   "outputs": [
    {
     "data": {
      "text/plain": [
       "['B', 'D', 'C', 'G', 'F']"
      ]
     },
     "execution_count": 64,
     "metadata": {},
     "output_type": "execute_result"
    }
   ],
   "source": [
    "# Random selection without replacement.\n",
    "random.sample(letters, k=5)"
   ]
  },
  {
   "cell_type": "code",
   "execution_count": 65,
   "metadata": {},
   "outputs": [
    {
     "data": {
      "text/plain": [
       "0.9377642001732036"
      ]
     },
     "execution_count": 65,
     "metadata": {},
     "output_type": "execute_result"
    }
   ],
   "source": [
    "# Random real (floating-point) number. [0.0, 1.0) Between 0.0 and 1.0. [ is included, ) is excluded\n",
    "random.random()"
   ]
  },
  {
   "cell_type": "code",
   "execution_count": 66,
   "metadata": {},
   "outputs": [
    {
     "data": {
      "text/plain": [
       "92.75551444537852"
      ]
     },
     "execution_count": 66,
     "metadata": {},
     "output_type": "execute_result"
    }
   ],
   "source": [
    "# Pick a random floating point number between 0.0 and 100.0. [0.0, 100.0]. Both end points included [ ]\n",
    "random.uniform(0.0, 100.0)"
   ]
  },
  {
   "cell_type": "markdown",
   "metadata": {},
   "source": [
    "## numpy\n",
    "\n",
    "[numpy API Reference: Random sampling](https://numpy.org/doc/stable/reference/random/index.html)\n",
    "\n",
    "https://numpy.org/doc/stable/reference/random/index.html\n",
    "\n",
    "***"
   ]
  },
  {
   "cell_type": "code",
   "execution_count": 67,
   "metadata": {},
   "outputs": [],
   "source": [
    "# Random Number Generator (RNG) for generating random numbers.\n",
    "rng = np.random.default_rng()"
   ]
  },
  {
   "cell_type": "code",
   "execution_count": 68,
   "metadata": {},
   "outputs": [
    {
     "data": {
      "text/plain": [
       "array([0.86621834, 0.45000534, 0.19904643, 0.67377236, 0.49043071,\n",
       "       0.24073951, 0.65865906, 0.83827734, 0.61702745, 0.24637803])"
      ]
     },
     "execution_count": 68,
     "metadata": {},
     "output_type": "execute_result"
    }
   ],
   "source": [
    "# Generate random floating point numbers in the half-open interval [0.0, 1.0). 0.0 (included) to 1.0 (excluded). \n",
    "rng.random(10)"
   ]
  },
  {
   "cell_type": "code",
   "execution_count": 69,
   "metadata": {},
   "outputs": [
    {
     "data": {
      "text/plain": [
       "array([-0.50250018,  0.59844837,  0.79862684, -0.47962816, -1.03819633,\n",
       "        0.98698412, -0.08650684,  0.23380854,  0.41985021, -1.49975368])"
      ]
     },
     "execution_count": 69,
     "metadata": {},
     "output_type": "execute_result"
    }
   ],
   "source": [
    "# Generate numbers on a standard Normal distribution.\n",
    "# The mean is 0.0 and standard deviation is 1.0.\n",
    "# The numbers generated should be, on average, centred on 0.0.\n",
    "# More than 99% of the numbers generated should be in the interval (-3.0, 3.0). Both -3.0 and 3.0 not included\n",
    "\n",
    "rng.standard_normal(10)"
   ]
  },
  {
   "cell_type": "code",
   "execution_count": 70,
   "metadata": {},
   "outputs": [
    {
     "data": {
      "text/plain": [
       "array([ 0.39281291, -0.47695705,  0.20945532,  0.19192497, -1.2142814 ,\n",
       "        0.93923104,  1.96370257,  0.83041396, -0.23909925,  0.14871913,\n",
       "       -0.01154212, -0.25309021, -0.10752719,  1.96459029,  0.71251618,\n",
       "       -0.84418217, -0.59048059, -0.9149532 , -2.55947259,  1.4572554 ,\n",
       "        1.1550436 , -0.54801202,  1.66207513, -0.95419787,  0.06012312,\n",
       "       -0.53887083, -0.75357762, -1.21139434,  1.66346911,  0.93671715,\n",
       "        0.26160968,  2.72306134,  0.45850078,  0.57855234,  0.29255329,\n",
       "       -1.05271051,  0.19497093, -0.70243303, -1.85288558, -0.05506546,\n",
       "        2.03373492,  0.59377504,  0.72983764, -1.39191363,  0.38872041,\n",
       "       -2.41257331,  0.77747557, -1.32723972,  1.01428169, -0.98778283,\n",
       "       -1.01349449, -1.99760727,  0.37643817,  0.73509321, -1.15209519,\n",
       "       -0.70663074, -0.01747631, -0.27210376,  1.22000634, -2.61963653,\n",
       "       -0.58653512,  1.49532377, -0.63246283,  0.29428528,  0.22877982,\n",
       "        1.07520915,  0.19420102,  1.37916834,  1.01119586,  1.80878631,\n",
       "        0.14131759, -1.37836674,  0.50381802,  0.96177784,  0.41220642,\n",
       "        0.62517808, -1.54846411,  1.38566807,  0.78371648, -0.37685329,\n",
       "        1.91286878,  0.27680074, -0.24168592,  0.57251065,  0.88085305,\n",
       "        0.76400864,  1.08987069,  0.12271854,  0.72364402, -0.93537577,\n",
       "        0.73134104,  2.46549935, -0.7334585 , -1.87731524, -0.6565779 ,\n",
       "        1.09191266,  0.17606164, -0.43982605,  0.64727952, -1.57923081])"
      ]
     },
     "execution_count": 70,
     "metadata": {},
     "output_type": "execute_result"
    }
   ],
   "source": [
    "# Generate numbers on a standard Normal distribution.\n",
    "rng.standard_normal(100)"
   ]
  },
  {
   "cell_type": "markdown",
   "metadata": {},
   "source": [
    "## Plotting Bar Charts\n",
    "\n",
    "***"
   ]
  },
  {
   "cell_type": "code",
   "execution_count": 71,
   "metadata": {},
   "outputs": [
    {
     "data": {
      "text/plain": [
       "array([13, 12, 18, 10, 11, 13, 10, 19, 17, 10, 16, 11, 18, 14, 10])"
      ]
     },
     "execution_count": 71,
     "metadata": {},
     "output_type": "execute_result"
    }
   ],
   "source": [
    "# Generate 15 integers between 10 (included) and 20 (excluded).\n",
    "rng.integers(low=10, high=20, size=15) "
   ]
  },
  {
   "cell_type": "code",
   "execution_count": 72,
   "metadata": {},
   "outputs": [
    {
     "data": {
      "text/plain": [
       "array([ 5,  2,  4,  8,  7,  1,  1,  2,  7,  4,  3,  8,  7,  6,  3, 10,  5,\n",
       "        8,  9,  4,  8,  9,  1,  9,  1,  1,  3,  1,  5,  7, 10,  2,  3,  1,\n",
       "        6, 10, 10, 10,  1,  1,  4,  1,  7,  8,  5,  8,  4, 10, 10,  1,  9,\n",
       "        4,  6,  8, 10,  1,  6,  2,  8,  9,  5,  5,  4,  2,  3,  3,  6,  5,\n",
       "        9,  2,  2,  5,  5,  1,  4,  1,  4,  3,  3,  5, 10,  2,  1,  6,  7,\n",
       "        1,  9,  9,  9,  4,  6,  4,  1,  8,  4,  3,  4,  9,  2,  7,  7,  2,\n",
       "        4,  3,  4,  1,  2,  6,  4,  4,  7,  9,  5,  7,  5,  7,  5,  3,  3,\n",
       "        4, 10,  5,  3,  6,  9,  4,  5,  5,  4,  7,  2,  6,  6,  2,  3,  3,\n",
       "        8,  7, 10,  6,  2,  9,  6,  9,  5,  8,  1,  5,  8,  1,  4,  4,  7,\n",
       "        4,  2,  9,  5, 10,  8, 10,  1,  5,  7,  7,  9,  4,  3,  5,  9,  9,\n",
       "        3,  8, 10,  7,  6,  2,  4,  9,  6,  4,  2,  1,  2,  7,  2, 10,  7,\n",
       "        4, 10,  1,  6,  9,  7,  7,  4,  1,  4,  8, 10, 10,  6,  1,  2,  2,\n",
       "        5,  5,  8,  4,  7,  3,  3,  9,  1,  7, 10,  3,  2,  2,  8,  6,  9,\n",
       "        6,  2,  1,  4,  3,  8,  1,  1, 10,  3, 10,  4,  4,  9,  8,  4, 10,\n",
       "        7,  9,  5,  7,  2,  4,  7,  3,  8,  5,  6,  6,  5,  5,  1,  5,  9,\n",
       "       10,  7,  3,  8,  4,  2,  5,  7,  4,  7,  1, 10,  3,  3,  1,  7,  5,\n",
       "        5,  4,  7,  8, 10,  5,  2,  6,  9,  5,  3,  4, 10,  5,  3,  6, 10,\n",
       "        9,  1,  9,  1,  8,  4,  8,  9,  3, 10,  5,  8,  6,  3,  1, 10,  1,\n",
       "        3,  5,  6,  3, 10,  4,  8,  6,  1,  8,  2,  7,  7,  2,  3,  8,  2,\n",
       "        3,  6,  5, 10,  5,  5,  8,  2,  2,  5,  3, 10,  5,  2,  3,  5,  5,\n",
       "        5, 10,  7, 10, 10,  3,  1,  6,  2,  7, 10,  9,  8,  8,  8,  4,  3,\n",
       "        3,  2,  5,  9,  2,  6, 10,  9,  6,  5, 10,  6,  4,  7,  1, 10,  4,\n",
       "        2,  7,  2,  6,  8,  2,  4,  5,  1, 10,  1,  9,  7,  5,  3,  2,  1,\n",
       "        2, 10,  6,  2,  8,  9,  1,  9,  8,  9,  9,  1,  7, 10,  3,  4,  4,\n",
       "        1, 10, 10,  4,  6,  5, 10,  1,  3,  3,  7,  4,  1,  3,  7,  9, 10,\n",
       "        8,  4,  3,  9,  9,  3,  6,  1,  8,  4,  6,  8,  2,  3,  5,  6,  3,\n",
       "        1,  8,  2,  5,  1,  9,  4,  3,  6,  5,  5,  7,  2,  6,  3, 10,  9,\n",
       "        5,  8,  7,  3,  2,  4,  7, 10,  7,  4,  4,  2,  8,  9,  8, 10,  5,\n",
       "        9,  8,  8,  5,  5,  1,  6,  1,  1,  9,  9,  2,  3,  5,  7,  5,  8,\n",
       "        9,  3,  5,  3,  4,  5,  1,  4,  2,  7,  9,  9,  6,  5,  8,  4, 10,\n",
       "        7,  3,  8,  8,  5,  2,  9,  4,  6,  1,  9,  6,  4,  7,  7,  5,  8,\n",
       "        4,  8,  1, 10,  2, 10,  9,  4,  5,  6, 10,  7, 10,  2,  1, 10,  7,\n",
       "        5,  2,  5,  3,  3,  3,  1,  1,  2,  1,  8,  1,  7,  3,  1,  8,  9,\n",
       "        4,  9,  8,  8,  8,  9,  7,  3,  7,  9,  7,  4,  2,  2,  3,  2,  2,\n",
       "        5,  1,  4,  2,  8,  8,  6,  5,  6,  8,  5,  4,  4,  3,  5,  2,  8,\n",
       "        1,  6,  3,  9,  9,  5,  1,  7,  2,  5,  4,  4,  1,  4,  8,  7,  8,\n",
       "        4,  6,  5,  9,  9,  9,  5, 10,  8,  7,  1,  8,  5,  7, 10,  9,  6,\n",
       "        8,  1,  8,  9,  3,  3,  2,  3,  4, 10,  4,  8,  4, 10,  3,  8,  3,\n",
       "        7,  6,  3,  4,  3,  2, 10,  9, 10,  3,  8,  7,  1,  3,  5,  4,  3,\n",
       "        3,  4, 10,  5, 10,  1, 10,  4,  8,  8,  6,  3,  2,  3, 10,  3,  5,\n",
       "        2,  6,  8,  4,  9,  5,  6,  7,  8,  2,  6,  8, 10,  9,  1,  9,  3,\n",
       "        2, 10,  9,  4,  7,  8, 10,  3,  9,  8,  7,  6,  6,  2,  3,  9,  4,\n",
       "        9,  1,  5, 10,  2,  7,  7, 10,  6,  7,  1,  2,  3,  6,  4,  7,  7,\n",
       "       10,  3,  7,  4,  5,  7,  4, 10,  4,  9,  7,  2,  7,  7,  2,  4,  5,\n",
       "        4,  9,  8, 10,  3, 10,  4,  4,  3,  7,  7, 10,  7,  9,  1,  9,  2,\n",
       "        3,  8,  4,  5,  9,  1,  8,  1,  9,  6,  5,  1,  9,  6,  3,  5,  3,\n",
       "        7,  8,  2, 10,  9, 10, 10,  5,  1,  2,  4, 10,  6, 10,  8,  9,  4,\n",
       "        8,  5,  2, 10,  1,  5,  3,  4,  1,  5,  2,  3,  2,  2,  4,  7,  8,\n",
       "        4,  8,  7,  4,  2,  9,  2,  2,  4,  3,  7,  2, 10,  7,  8,  8,  1,\n",
       "        8,  4,  3,  8,  9,  8,  5,  9,  2,  7,  1,  6,  7,  2,  2, 10, 10,\n",
       "        5,  8,  1,  2,  8,  3,  7,  5,  2, 10,  6,  3,  2,  3,  6,  7, 10,\n",
       "        9,  5,  6,  1, 10,  4,  7,  6, 10,  9,  7,  4,  8,  1,  1,  9,  5,\n",
       "        6,  5,  2,  6,  8,  8,  5,  8,  4,  2,  4,  4,  3,  2,  4,  7,  4,\n",
       "        6,  4,  1,  6,  4,  8,  8,  4,  8, 10, 10,  2,  9,  6,  2,  4,  2,\n",
       "        5,  1, 10,  4,  8, 10,  5,  4,  3,  2,  3,  7,  5,  8,  4,  9,  7,\n",
       "        4,  4,  9,  9,  5,  4,  7,  5,  3,  8,  3,  8,  6,  4,  4,  5,  9,\n",
       "        6,  8,  1,  2,  3,  5, 10,  1,  9,  8,  3,  7,  3,  2,  2,  7,  4,\n",
       "        5,  6,  7,  5,  9,  5, 10,  7,  7,  4,  9,  3,  4,  6,  6,  6,  5,\n",
       "        9,  8,  1,  4,  4,  5,  8,  8,  2,  3,  8,  9,  4,  4])"
      ]
     },
     "execution_count": 72,
     "metadata": {},
     "output_type": "execute_result"
    }
   ],
   "source": [
    "rand_ints = rng.integers(low=1, high=11, size=1000)\n",
    "\n",
    "# Show\n",
    "rand_ints"
   ]
  },
  {
   "cell_type": "code",
   "execution_count": 97,
   "metadata": {},
   "outputs": [],
   "source": [
    "# The lowest integer allowed.\n",
    "low = 1\n",
    "\n",
    "# The highest integer allowed.\n",
    "high = 10\n",
    "\n",
    "# The number of integers to generate.\n",
    "size = 1000 # try to change to 10000, bar will look almost uniform"
   ]
  },
  {
   "cell_type": "code",
   "execution_count": 98,
   "metadata": {},
   "outputs": [
    {
     "data": {
      "text/plain": [
       "array([ 6,  8,  8,  9,  7,  1,  7, 10,  5,  7,  6,  2, 10,  4,  8,  7,  3,\n",
       "        2,  7,  9,  6,  1,  8,  3,  3,  1,  9,  7,  2,  4,  2,  5, 10,  4,\n",
       "        6,  7,  3, 10,  1,  4,  2, 10,  5,  2,  5,  1,  8,  5,  1,  6,  2,\n",
       "        7,  4,  5,  8,  7,  8, 10,  3,  7,  7,  8,  3,  6,  2,  5,  5,  4,\n",
       "        7, 10,  6,  3,  9,  8,  2,  6,  7,  4,  3, 10,  1,  7,  3,  5,  4,\n",
       "        4,  5, 10,  6,  9,  8,  8,  1,  9,  8,  1,  1,  5,  6,  8,  8,  8,\n",
       "        1, 10, 10,  9,  8,  8,  7,  4,  1,  1,  5,  7,  5, 10,  9,  1,  5,\n",
       "        4,  5,  4,  2,  9,  1,  4, 10,  2,  5,  8,  5,  8,  6,  3,  2,  5,\n",
       "       10,  2,  7,  8,  3,  6,  3,  2,  7,  8,  3,  2,  6,  8,  1,  8,  3,\n",
       "        2,  9,  2,  2,  3,  4,  2,  5,  2,  8,  4,  2,  9,  5,  4, 10,  3,\n",
       "        8,  1,  3,  8,  5, 10,  5,  8,  3,  8,  9,  2,  2,  5,  5,  6,  9,\n",
       "        6, 10,  9,  4, 10,  8,  3,  4,  1,  6,  8,  4,  8,  7,  8,  8,  6,\n",
       "        1,  5,  6,  1,  1,  2,  4,  1,  6,  9, 10,  7,  8,  9,  1,  7,  1,\n",
       "        7,  4,  5,  5,  1,  6,  8, 10,  9, 10,  9,  9,  6,  3,  3, 10,  9,\n",
       "        3, 10,  7,  6,  2,  5,  2,  6,  3,  6,  7,  7,  3,  2,  7,  2,  8,\n",
       "        4,  8,  7,  3,  3,  1,  7,  9,  6,  3,  1,  9,  2,  3,  9,  4,  2,\n",
       "        3,  6,  5,  9,  5,  3,  9,  6,  5,  1,  2,  2,  4, 10,  7, 10,  2,\n",
       "        3,  6,  1,  6,  2,  6,  5,  3,  9, 10, 10,  4,  7,  8, 10,  6,  8,\n",
       "        9,  9,  7,  3,  8, 10,  6,  3,  3,  8,  9,  2,  3,  7,  5,  7,  8,\n",
       "        3,  6,  1,  1,  6,  3,  3,  6,  2,  7,  4,  7,  6, 10,  1,  8,  3,\n",
       "        1,  5,  3,  5,  6,  7,  6,  9,  6,  7,  7,  2,  5,  9,  5,  9,  5,\n",
       "       10,  5,  9,  7,  7,  8,  3,  7,  3,  5,  7,  4,  8,  7,  7,  7,  4,\n",
       "        9,  9,  9,  1,  1,  5,  4,  1,  1,  1,  7,  1, 10, 10,  5,  6,  9,\n",
       "        8,  3,  6,  9,  5,  6,  7,  8,  7, 10,  7,  2, 10,  1,  6,  1,  3,\n",
       "        4,  1, 10,  4,  3,  6,  5,  5, 10,  3,  6,  2,  4,  8,  6,  5,  6,\n",
       "        7,  4,  9,  3,  4,  1,  7,  9,  6,  6,  8,  3, 10,  9,  9,  9, 10,\n",
       "        3,  2,  8,  2,  2,  2,  6, 10,  5,  3,  1,  6,  5,  5,  5,  8,  6,\n",
       "        2, 10,  7,  6,  6,  1,  3,  8,  9, 10,  4,  5,  2,  1, 10,  1,  3,\n",
       "       10,  8,  4,  7,  5,  2,  1,  5,  1,  5,  8,  9,  4,  6,  3,  9,  9,\n",
       "        1, 10,  6,  5,  2,  6,  2, 10,  4,  5,  9,  4,  1,  2,  1, 10,  2,\n",
       "       10,  5,  3,  9,  6,  1,  2,  4,  8,  3,  3,  1,  9, 10,  5,  1,  4,\n",
       "       10,  1,  4,  1,  2,  3,  2,  7,  7,  8,  9,  6,  1, 10,  3,  7,  3,\n",
       "        2,  2, 10,  2,  7,  8,  2,  3,  8,  9,  5,  5,  5,  8,  7, 10,  2,\n",
       "        3,  8,  4,  2, 10,  2,  4,  8,  5,  2,  6,  2,  8,  2,  2,  3,  1,\n",
       "        8,  7,  9,  1,  9,  8,  5,  5,  5, 10,  8, 10,  5,  2,  8,  8,  2,\n",
       "        1,  7,  8,  1,  7,  6, 10, 10, 10,  7,  9,  9, 10,  2,  1,  2,  5,\n",
       "        3,  6,  1,  5,  6,  5,  4,  8,  6,  8,  1,  4,  7,  7,  4,  6,  6,\n",
       "        4,  3, 10,  9,  1,  2,  9,  5,  4,  2,  2,  5,  6, 10,  2,  7,  3,\n",
       "        3,  8,  9,  8,  1,  9,  6,  7, 10,  6,  8,  9,  5,  9,  8, 10,  3,\n",
       "       10,  9,  7, 10,  4,  2,  6,  1,  4,  2,  9, 10,  3,  2,  1, 10,  6,\n",
       "        2,  8,  2,  4,  4,  8,  4,  4,  6,  7,  4,  1, 10,  2, 10, 10,  7,\n",
       "        6,  2,  2,  4,  4,  6, 10,  9,  3,  6,  5,  3,  6,  2,  6,  5, 10,\n",
       "        3,  3,  6,  1,  6,  5,  3,  2,  9,  2,  7,  2,  9,  5,  8,  4,  6,\n",
       "        6,  1,  5,  5,  5,  9,  9,  8, 10,  3,  1,  3,  3,  8,  2,  5,  3,\n",
       "        9, 10,  9,  6,  8,  4, 10,  4,  2,  6,  9,  5, 10,  2,  9,  4,  6,\n",
       "        2, 10,  5,  8,  5,  9,  9,  3,  2,  8,  1,  6,  9,  9,  9,  9,  6,\n",
       "        6,  3,  3,  7,  7,  6,  3,  3,  9,  2,  9,  1,  3,  9,  4,  1,  2,\n",
       "        6,  3, 10,  5,  9, 10,  6,  2,  3,  5,  7,  5, 10,  4,  3,  2,  1,\n",
       "        9,  6,  2,  8,  4,  2,  5, 10,  5,  6,  4,  7,  5,  9, 10,  6,  5,\n",
       "        5,  8,  2,  7,  9,  9,  9,  2,  4,  8,  7,  9,  5,  9,  8,  4,  6,\n",
       "        5,  3,  8,  8,  4,  5,  1,  8,  2,  9,  3,  6,  7,  7,  4,  1,  3,\n",
       "        7,  4,  5,  4,  9,  2,  4,  1,  4,  2, 10,  8, 10,  2,  6,  8,  5,\n",
       "        2,  7,  8,  9,  1,  2,  4,  5,  2,  9,  2,  2, 10,  7,  4,  6,  7,\n",
       "        9,  2,  5,  9,  2,  4,  2,  6,  9,  9,  3,  2,  4,  8,  2,  1,  2,\n",
       "        1,  4,  3,  7,  2,  8,  8,  3,  8,  5,  5,  3,  8,  6,  8,  3,  3,\n",
       "        4,  6,  1,  3,  3,  8, 10,  9,  1,  8, 10,  8,  7,  7,  1,  5,  3,\n",
       "        5,  1, 10,  2,  8,  2,  6,  4,  6,  1,  7,  3,  7,  5,  1,  9,  7,\n",
       "        9, 10,  7,  3,  9,  5,  3,  2, 10,  2,  2,  4,  7,  6,  2,  2, 10,\n",
       "        3,  1,  3,  5,  6,  9,  5,  9,  4, 10,  1,  6,  8,  1])"
      ]
     },
     "execution_count": 98,
     "metadata": {},
     "output_type": "execute_result"
    }
   ],
   "source": [
    "# Generate a list of random integers.\n",
    "rand_ints = rng.integers(low=low, high=high + 1, size=size)\n",
    "\n",
    "# Show.\n",
    "rand_ints"
   ]
  },
  {
   "cell_type": "code",
   "execution_count": 99,
   "metadata": {},
   "outputs": [
    {
     "data": {
      "text/plain": [
       "array([ 1.,  2.,  3.,  4.,  5.,  6.,  7.,  8.,  9., 10.])"
      ]
     },
     "execution_count": 99,
     "metadata": {},
     "output_type": "execute_result"
    }
   ],
   "source": [
    "# The range of x values\n",
    "x = np.arange(low, high + 1.0)\n",
    "\n",
    "# Show x\n",
    "x"
   ]
  },
  {
   "cell_type": "code",
   "execution_count": 100,
   "metadata": {},
   "outputs": [
    {
     "data": {
      "text/plain": [
       "array([ 1,  2,  3,  4,  5,  6,  7,  8,  9, 10])"
      ]
     },
     "execution_count": 100,
     "metadata": {},
     "output_type": "execute_result"
    }
   ],
   "source": [
    "# The range of x values\n",
    "x = np.arange(low, high + 1.0, dtype=int)\n",
    "\n",
    "# Show x\n",
    "x"
   ]
  },
  {
   "cell_type": "code",
   "execution_count": 101,
   "metadata": {},
   "outputs": [
    {
     "data": {
      "text/plain": [
       "array([ 1,  2,  3,  4,  5,  6,  7,  8,  9, 10])"
      ]
     },
     "execution_count": 101,
     "metadata": {},
     "output_type": "execute_result"
    }
   ],
   "source": [
    "# The unique elements of rand_ints.\n",
    "np.unique(rand_ints)"
   ]
  },
  {
   "cell_type": "code",
   "execution_count": 102,
   "metadata": {},
   "outputs": [
    {
     "data": {
      "text/plain": [
       "(array([ 1,  2,  3,  4,  5,  6,  7,  8,  9, 10]),\n",
       " array([ 92, 120, 104,  83, 106, 105,  90, 103, 104,  93]))"
      ]
     },
     "execution_count": 102,
     "metadata": {},
     "output_type": "execute_result"
    }
   ],
   "source": [
    "np.unique(rand_ints, return_counts=True)"
   ]
  },
  {
   "cell_type": "code",
   "execution_count": 103,
   "metadata": {},
   "outputs": [
    {
     "data": {
      "text/plain": [
       "(array([ 1,  2,  3,  4,  5,  6,  7,  8,  9, 10]),\n",
       " array([ 92, 120, 104,  83, 106, 105,  90, 103, 104,  93]))"
      ]
     },
     "execution_count": 103,
     "metadata": {},
     "output_type": "execute_result"
    }
   ],
   "source": [
    "# The unique elements of rand_ints, with counts. (how many times certain numbers appear)\n",
    "x, counts = np.unique(rand_ints, return_counts=True)\n",
    "\n",
    "# Show the x and counts arrays.\n",
    "x, counts"
   ]
  },
  {
   "cell_type": "code",
   "execution_count": 104,
   "metadata": {},
   "outputs": [
    {
     "data": {
      "image/png": "[encoded data removed]",
      "text/plain": [
       "<Figure size 640x480 with 1 Axes>"
      ]
     },
     "metadata": {},
     "output_type": "display_data"
    }
   ],
   "source": [
    "# Create an empty plot.\n",
    "fig, ax = plt.subplots()\n",
    "\n",
    "# Plot a bar chart.\n",
    "ax.bar(x, counts);\n",
    "\n",
    "# bar chart is suitable for discrete data (int), no decimal points"
   ]
  },
  {
   "cell_type": "code",
   "execution_count": 77,
   "metadata": {},
   "outputs": [
    {
     "data": {
      "image/png": "[encoded data removed]",
      "text/plain": [
       "<Figure size 640x480 with 1 Axes>"
      ]
     },
     "metadata": {},
     "output_type": "display_data"
    }
   ],
   "source": [
    "# Create an empty plot.\n",
    "fig, ax = plt.subplots()\n",
    "\n",
    "# Plot a bar chart.\n",
    "ax.bar([1, 2, 3], [20, 15, 50]);\n",
    "\n",
    "# bar chart is suitable for discrete data (int), no decimal points"
   ]
  },
  {
   "cell_type": "code",
   "execution_count": 78,
   "metadata": {},
   "outputs": [
    {
     "data": {
      "image/png": "[encoded data removed]",
      "text/plain": [
       "<Figure size 1200x300 with 1 Axes>"
      ]
     },
     "metadata": {},
     "output_type": "display_data"
    }
   ],
   "source": [
    "# Create an empty plot.\n",
    "fig, ax = plt.subplots(figsize=(12, 3))\n",
    "\n",
    "# Plot a bar chart.\n",
    "ax.bar(x, counts);"
   ]
  },
  {
   "cell_type": "markdown",
   "metadata": {},
   "source": [
    "## Plotting Histograms\n",
    "\n",
    "***"
   ]
  },
  {
   "cell_type": "code",
   "execution_count": 111,
   "metadata": {},
   "outputs": [],
   "source": [
    "# The number of floating points numbers to generate.\n",
    "size = 1000"
   ]
  },
  {
   "cell_type": "code",
   "execution_count": 112,
   "metadata": {},
   "outputs": [
    {
     "data": {
      "text/plain": [
       "array([0.69805856, 0.61071018, 0.17450721, 0.99066886, 0.19646564,\n",
       "       0.75014535, 0.79334171, 0.11340223, 0.88007126, 0.37379745,\n",
       "       0.48900447, 0.7163235 , 0.95307912, 0.31313454, 0.10608043,\n",
       "       0.04405294, 0.65217694, 0.95936232, 0.20833415, 0.47806261,\n",
       "       0.25569193, 0.28832182, 0.87213735, 0.79196924, 0.01949181,\n",
       "       0.20101942, 0.30505521, 0.50644704, 0.06045324, 0.18517621,\n",
       "       0.23520517, 0.07907973, 0.56148416, 0.98694635, 0.66459091,\n",
       "       0.17630808, 0.61916937, 0.77227775, 0.25028667, 0.53243124,\n",
       "       0.01358369, 0.47464174, 0.90977931, 0.90639358, 0.80223953,\n",
       "       0.30857191, 0.7608162 , 0.7255599 , 0.82234539, 0.22402187,\n",
       "       0.00514665, 0.51540391, 0.48450708, 0.45292427, 0.14566664,\n",
       "       0.26865428, 0.08480343, 0.47398123, 0.07904279, 0.51764728,\n",
       "       0.25556412, 0.16736106, 0.30988929, 0.67333846, 0.41860088,\n",
       "       0.65966745, 0.81890874, 0.40264181, 0.35754104, 0.39358614,\n",
       "       0.34736363, 0.4340438 , 0.24703012, 0.52909417, 0.01169535,\n",
       "       0.34069376, 0.93998106, 0.17521494, 0.65043364, 0.68524314,\n",
       "       0.15740143, 0.72623643, 0.93873099, 0.3104634 , 0.81069126,\n",
       "       0.24072848, 0.95555792, 0.32219285, 0.67143175, 0.4283563 ,\n",
       "       0.36901367, 0.53323774, 0.62025675, 0.77994516, 0.67627699,\n",
       "       0.31901308, 0.09729154, 0.68115767, 0.33267562, 0.02634955,\n",
       "       0.14282566, 0.64229637, 0.26533462, 0.80231693, 0.58013938,\n",
       "       0.65854456, 0.45619927, 0.47948437, 0.30841939, 0.20882919,\n",
       "       0.82870878, 0.06793768, 0.43197649, 0.96317787, 0.82004824,\n",
       "       0.07861967, 0.1502075 , 0.03416003, 0.09573446, 0.52068554,\n",
       "       0.39104668, 0.03582567, 0.82651466, 0.21197434, 0.2481447 ,\n",
       "       0.54725371, 0.14459924, 0.95199409, 0.97819095, 0.62106928,\n",
       "       0.60495879, 0.61251841, 0.30781646, 0.09277851, 0.8399166 ,\n",
       "       0.34566601, 0.08670801, 0.42051513, 0.79942129, 0.65319161,\n",
       "       0.49079896, 0.44468615, 0.23862143, 0.2416477 , 0.91607117,\n",
       "       0.16864084, 0.99302113, 0.30683957, 0.91498764, 0.77877146,\n",
       "       0.56791065, 0.55895822, 0.68049497, 0.59724319, 0.45325657,\n",
       "       0.54078929, 0.86981257, 0.73902409, 0.92456652, 0.42643192,\n",
       "       0.15454642, 0.9211878 , 0.30230591, 0.2258707 , 0.71330136,\n",
       "       0.06731566, 0.34450615, 0.42554606, 0.1854333 , 0.45461575,\n",
       "       0.1011919 , 0.15923538, 0.32235721, 0.21956583, 0.13905091,\n",
       "       0.32193341, 0.24576857, 0.37911173, 0.0210889 , 0.17874898,\n",
       "       0.2290626 , 0.67098695, 0.65779142, 0.68254265, 0.43770528,\n",
       "       0.09783239, 0.07527359, 0.19546054, 0.96626051, 0.93268084,\n",
       "       0.96504724, 0.16795102, 0.42930937, 0.81872642, 0.22651414,\n",
       "       0.9711162 , 0.59550721, 0.05708122, 0.26945636, 0.46995093,\n",
       "       0.72317343, 0.44855455, 0.95381458, 0.09182872, 0.63817851,\n",
       "       0.88510299, 0.07685392, 0.13953605, 0.86000767, 0.09472686,\n",
       "       0.99006203, 0.89492934, 0.74499003, 0.60455224, 0.6618989 ,\n",
       "       0.75315385, 0.97180953, 0.37826129, 0.86216927, 0.65304401,\n",
       "       0.36254431, 0.16537251, 0.8267017 , 0.48960023, 0.40783496,\n",
       "       0.7083167 , 0.25691031, 0.59474225, 0.25186994, 0.63160283,\n",
       "       0.04223135, 0.00943551, 0.1028138 , 0.36001524, 0.72650048,\n",
       "       0.63942744, 0.63789096, 0.41466138, 0.02311846, 0.14552683,\n",
       "       0.90884711, 0.45053662, 0.16437143, 0.46033923, 0.55060788,\n",
       "       0.54310022, 0.30890009, 0.45276415, 0.71026557, 0.62065964,\n",
       "       0.94224786, 0.58489994, 0.23650853, 0.35024027, 0.83378283,\n",
       "       0.60558613, 0.26680658, 0.84298583, 0.59797035, 0.87240621,\n",
       "       0.74185563, 0.3626215 , 0.27127166, 0.10831271, 0.3635695 ,\n",
       "       0.17381518, 0.45953799, 0.98663883, 0.52795058, 0.94519668,\n",
       "       0.46291683, 0.46714413, 0.64345954, 0.23858394, 0.08753296,\n",
       "       0.61605673, 0.79524821, 0.02088246, 0.65693704, 0.14789792,\n",
       "       0.22470262, 0.52197341, 0.44452004, 0.18787043, 0.57659412,\n",
       "       0.62066534, 0.24515261, 0.22175123, 0.71747137, 0.67945485,\n",
       "       0.57226555, 0.60090477, 0.35057285, 0.93362458, 0.0950686 ,\n",
       "       0.77853599, 0.98473725, 0.6837056 , 0.7288277 , 0.99100994,\n",
       "       0.95330976, 0.40361581, 0.50168818, 0.1252755 , 0.7045219 ,\n",
       "       0.88875284, 0.06906603, 0.43437522, 0.54802388, 0.98552892,\n",
       "       0.48548889, 0.49555024, 0.87377046, 0.97429066, 0.42901182,\n",
       "       0.64932178, 0.25533954, 0.62325528, 0.16555463, 0.51733613,\n",
       "       0.42768729, 0.09476502, 0.41125582, 0.28785568, 0.33998416,\n",
       "       0.98168589, 0.46337636, 0.82577007, 0.34527932, 0.31010538,\n",
       "       0.16213103, 0.90911843, 0.2560968 , 0.19967194, 0.72968363,\n",
       "       0.45891358, 0.89917833, 0.94996678, 0.09396676, 0.12867118,\n",
       "       0.57858025, 0.21114605, 0.96955983, 0.69469151, 0.77626361,\n",
       "       0.62099756, 0.84169186, 0.34308672, 0.08720494, 0.58627508,\n",
       "       0.82449098, 0.83871449, 0.02070384, 0.5284342 , 0.16123836,\n",
       "       0.61879572, 0.06721976, 0.87303592, 0.4010479 , 0.90282526,\n",
       "       0.55865542, 0.55483259, 0.83072803, 0.82133059, 0.12847698,\n",
       "       0.45006805, 0.04894223, 0.34403819, 0.77812075, 0.00722044,\n",
       "       0.28412593, 0.35553135, 0.40050342, 0.38424986, 0.33174314,\n",
       "       0.73924327, 0.79687815, 0.60769374, 0.53240524, 0.20404857,\n",
       "       0.11522894, 0.97943204, 0.72858197, 0.90540874, 0.30534926,\n",
       "       0.35292199, 0.83634185, 0.53611863, 0.92008575, 0.40432727,\n",
       "       0.77272259, 0.41096921, 0.18263374, 0.56081801, 0.49935766,\n",
       "       0.61641567, 0.21401011, 0.5885741 , 0.33324401, 0.95084184,\n",
       "       0.66442593, 0.92338501, 0.84804114, 0.336641  , 0.75403421,\n",
       "       0.53988986, 0.18353976, 0.04099266, 0.82844691, 0.83359   ,\n",
       "       0.52514013, 0.95200542, 0.7942136 , 0.53716416, 0.46536163,\n",
       "       0.23141434, 0.20430703, 0.15050036, 0.9714249 , 0.79095816,\n",
       "       0.36190517, 0.27013093, 0.24016902, 0.86205146, 0.78817315,\n",
       "       0.92330315, 0.93431699, 0.6020062 , 0.40673148, 0.67145213,\n",
       "       0.3565815 , 0.58939233, 0.97170269, 0.27761974, 0.52178668,\n",
       "       0.8582124 , 0.58901038, 0.92392989, 0.72052022, 0.16740363,\n",
       "       0.80929871, 0.85463685, 0.54534471, 0.98612081, 0.60027057,\n",
       "       0.72740914, 0.22227476, 0.29892117, 0.50838842, 0.2792248 ,\n",
       "       0.6961546 , 0.42667265, 0.5117551 , 0.34137287, 0.38445618,\n",
       "       0.76915559, 0.37751343, 0.9562875 , 0.15427912, 0.30183941,\n",
       "       0.70823216, 0.86453412, 0.32813198, 0.26596868, 0.3853858 ,\n",
       "       0.07256163, 0.41832565, 0.4470639 , 0.6573254 , 0.30014723,\n",
       "       0.04386982, 0.88446316, 0.89588191, 0.04732477, 0.32415184,\n",
       "       0.18049069, 0.17121362, 0.21903881, 0.56559136, 0.55704638,\n",
       "       0.09095908, 0.50819602, 0.07393956, 0.8998534 , 0.73658045,\n",
       "       0.21367713, 0.23881251, 0.15382971, 0.12932747, 0.17130219,\n",
       "       0.22736455, 0.51897539, 0.43980479, 0.04127971, 0.52470188,\n",
       "       0.81951438, 0.27956316, 0.51889863, 0.93468017, 0.81512935,\n",
       "       0.40066927, 0.18017473, 0.52592561, 0.86397091, 0.21049402,\n",
       "       0.87510592, 0.77997298, 0.02180994, 0.79574976, 0.27594424,\n",
       "       0.53803413, 0.84001764, 0.11487744, 0.6371694 , 0.15812324,\n",
       "       0.77209845, 0.39076815, 0.49022394, 0.55952619, 0.38428129,\n",
       "       0.09740786, 0.94621199, 0.33556745, 0.11905612, 0.68176669,\n",
       "       0.64877697, 0.89720972, 0.93963746, 0.52223062, 0.95761712,\n",
       "       0.1038988 , 0.26269933, 0.33585526, 0.57956606, 0.29393158,\n",
       "       0.55790386, 0.89753281, 0.19917003, 0.93591221, 0.32765313,\n",
       "       0.48840137, 0.71579533, 0.30037799, 0.38996012, 0.62962565,\n",
       "       0.48974381, 0.95079604, 0.36989985, 0.06653182, 0.17406774,\n",
       "       0.05035266, 0.38296742, 0.7765852 , 0.96666762, 0.56350017,\n",
       "       0.8171529 , 0.08892981, 0.67712007, 0.7801625 , 0.07362548,\n",
       "       0.75478605, 0.1816456 , 0.0854803 , 0.39586   , 0.59166298,\n",
       "       0.48625595, 0.28832699, 0.65596191, 0.94495215, 0.00636343,\n",
       "       0.05222429, 0.26212669, 0.61997732, 0.97604766, 0.85944794,\n",
       "       0.01502168, 0.6526734 , 0.10119693, 0.1122151 , 0.17844378,\n",
       "       0.01438031, 0.06945132, 0.62773389, 0.0818636 , 0.4885292 ,\n",
       "       0.42427521, 0.30113133, 0.96974694, 0.72634426, 0.27638303,\n",
       "       0.89102372, 0.73074478, 0.34401639, 0.62319113, 0.63380292,\n",
       "       0.89243154, 0.69559483, 0.5507271 , 0.04120366, 0.99638089,\n",
       "       0.51815965, 0.51155074, 0.2658727 , 0.70257835, 0.09350303,\n",
       "       0.65760948, 0.12798668, 0.33417118, 0.06933807, 0.17892247,\n",
       "       0.07808586, 0.19248073, 0.70459118, 0.4276014 , 0.37702053,\n",
       "       0.69954785, 0.75451727, 0.1667276 , 0.6131188 , 0.17809516,\n",
       "       0.01383657, 0.99798098, 0.61102475, 0.52660395, 0.28158562,\n",
       "       0.47084105, 0.68352536, 0.16714729, 0.32553047, 0.68709323,\n",
       "       0.9431801 , 0.41801708, 0.89588904, 0.5398242 , 0.63574605,\n",
       "       0.43491727, 0.83139024, 0.47524011, 0.46811395, 0.7302488 ,\n",
       "       0.06930137, 0.45505594, 0.60785576, 0.11722134, 0.01719652,\n",
       "       0.92008716, 0.95536382, 0.2987934 , 0.89543539, 0.95413531,\n",
       "       0.12367188, 0.01037386, 0.99022013, 0.7716121 , 0.56351424,\n",
       "       0.95840874, 0.90944451, 0.22146703, 0.69940052, 0.1167687 ,\n",
       "       0.7468746 , 0.4022563 , 0.06015016, 0.8094069 , 0.02234018,\n",
       "       0.76872614, 0.035602  , 0.29222219, 0.91047406, 0.41506282,\n",
       "       0.23754596, 0.02958539, 0.22727499, 0.32045547, 0.58998718,\n",
       "       0.93647828, 0.43163878, 0.78111178, 0.49854443, 0.74587743,\n",
       "       0.40605406, 0.52265705, 0.7707872 , 0.99462404, 0.4613594 ,\n",
       "       0.82883113, 0.82053341, 0.9408326 , 0.74885692, 0.20499192,\n",
       "       0.66684311, 0.71297245, 0.53265022, 0.46897561, 0.47008155,\n",
       "       0.66226415, 0.6295908 , 0.11404479, 0.39869969, 0.96689421,\n",
       "       0.37932925, 0.90232253, 0.6261928 , 0.24273707, 0.34848166,\n",
       "       0.16430483, 0.59272042, 0.25266088, 0.83421965, 0.59247716,\n",
       "       0.13095686, 0.13202632, 0.98617751, 0.80305131, 0.85889721,\n",
       "       0.57234409, 0.47194126, 0.11467919, 0.09970251, 0.47058671,\n",
       "       0.1253391 , 0.29595977, 0.56080261, 0.93513417, 0.89113415,\n",
       "       0.74655871, 0.9513359 , 0.24687313, 0.69111436, 0.21373573,\n",
       "       0.42308999, 0.67169729, 0.5297114 , 0.24344641, 0.2077151 ,\n",
       "       0.0347596 , 0.01278377, 0.28481551, 0.31140859, 0.1871563 ,\n",
       "       0.34710182, 0.02940053, 0.88137006, 0.67193156, 0.24285704,\n",
       "       0.08114898, 0.64012615, 0.0269333 , 0.63439631, 0.33343871,\n",
       "       0.91118051, 0.13791972, 0.57111909, 0.31367975, 0.87196667,\n",
       "       0.82671371, 0.13156822, 0.21813823, 0.09672825, 0.68629865,\n",
       "       0.90390397, 0.00723754, 0.67731986, 0.72313044, 0.22938217,\n",
       "       0.86673151, 0.65122679, 0.69696259, 0.21529837, 0.03726259,\n",
       "       0.62373462, 0.30101359, 0.72975113, 0.28312447, 0.22863072,\n",
       "       0.9511059 , 0.91750767, 0.7623051 , 0.06638298, 0.05702776,\n",
       "       0.28496614, 0.01932492, 0.21440166, 0.037804  , 0.65857261,\n",
       "       0.09598717, 0.17381316, 0.82078332, 0.05142628, 0.31628458,\n",
       "       0.98483185, 0.25555434, 0.02575601, 0.74561515, 0.16554569,\n",
       "       0.32203867, 0.07399165, 0.42515428, 0.44042241, 0.07294571,\n",
       "       0.53899609, 0.19008789, 0.16105633, 0.11536875, 0.3454778 ,\n",
       "       0.98352969, 0.75952997, 0.06327657, 0.809556  , 0.28201138,\n",
       "       0.98098908, 0.71604936, 0.23400255, 0.68322205, 0.78684206,\n",
       "       0.0690171 , 0.31345411, 0.20062395, 0.66282025, 0.10308336,\n",
       "       0.73878033, 0.09164209, 0.83829846, 0.29619107, 0.33018323,\n",
       "       0.18515311, 0.56186918, 0.98638463, 0.69353902, 0.5512339 ,\n",
       "       0.58742839, 0.85315407, 0.71990777, 0.91965874, 0.67799425,\n",
       "       0.99949077, 0.75827852, 0.48665557, 0.76295604, 0.65661175,\n",
       "       0.61517253, 0.27983353, 0.50757314, 0.59855704, 0.91566636,\n",
       "       0.49957878, 0.19110847, 0.25641461, 0.62248284, 0.93262727,\n",
       "       0.28025923, 0.56334187, 0.40303089, 0.66920746, 0.76779552,\n",
       "       0.72559927, 0.19129947, 0.2965148 , 0.11488562, 0.11510571,\n",
       "       0.20827898, 0.72760885, 0.02188196, 0.22521591, 0.94622157,\n",
       "       0.26532797, 0.42364405, 0.25662762, 0.07134002, 0.99677264,\n",
       "       0.76995793, 0.14534973, 0.17614466, 0.77580553, 0.87472325,\n",
       "       0.45650975, 0.1110559 , 0.48847929, 0.29515356, 0.92366252,\n",
       "       0.06051226, 0.66277042, 0.72815224, 0.10241304, 0.41556565,\n",
       "       0.95272093, 0.17121231, 0.47379808, 0.336447  , 0.1416239 ,\n",
       "       0.25587485, 0.24343331, 0.06558562, 0.00784913, 0.97935636,\n",
       "       0.55611854, 0.52252557, 0.30309221, 0.83694592, 0.6178499 ,\n",
       "       0.39583444, 0.90615668, 0.43321732, 0.59721934, 0.92794811,\n",
       "       0.02650322, 0.86415136, 0.00766702, 0.2361214 , 0.01609518,\n",
       "       0.12063109, 0.0977653 , 0.56265592, 0.57318147, 0.81110877,\n",
       "       0.21579132, 0.84575584, 0.19690075, 0.99842731, 0.93133172,\n",
       "       0.6680016 , 0.45076586, 0.74827441, 0.52214716, 0.33087672,\n",
       "       0.48888117, 0.23625663, 0.7337175 , 0.68787158, 0.86600506,\n",
       "       0.59191657, 0.87679551, 0.52304777, 0.87274251, 0.64569783,\n",
       "       0.02149523, 0.81719895, 0.27191711, 0.55693633, 0.32220538,\n",
       "       0.64827247, 0.03880477, 0.9716684 , 0.02618825, 0.28191159,\n",
       "       0.32373973, 0.40897812, 0.28696693, 0.01634002, 0.88864945,\n",
       "       0.93412145, 0.90395443, 0.05751683, 0.56339925, 0.43459151,\n",
       "       0.44723821, 0.26076983, 0.88973911, 0.03626488, 0.07411513,\n",
       "       0.83726932, 0.07737036, 0.26151388, 0.48057353, 0.66817597,\n",
       "       0.37205125, 0.69746122, 0.88842503, 0.29798163, 0.03983154,\n",
       "       0.02025977, 0.64104118, 0.88701177, 0.42135764, 0.67621549,\n",
       "       0.2777181 , 0.64134773, 0.97056236, 0.90584216, 0.1061329 ,\n",
       "       0.09173523, 0.06589527, 0.58346101, 0.20687617, 0.8811954 ,\n",
       "       0.96025039, 0.39774237, 0.02193052, 0.79717537, 0.64285627,\n",
       "       0.95338985, 0.59732878, 0.15122767, 0.32640349, 0.98091745,\n",
       "       0.92756461, 0.14516844, 0.68911744, 0.76504475, 0.2096538 ])"
      ]
     },
     "execution_count": 112,
     "metadata": {},
     "output_type": "execute_result"
    }
   ],
   "source": [
    "# Generate random floating point numbers in the interval 0.0 (included) to 1.0 (excluded).\n",
    "rand_floats = rng.random(size)\n",
    "\n",
    "# Show rand_floats.\n",
    "rand_floats"
   ]
  },
  {
   "cell_type": "code",
   "execution_count": 113,
   "metadata": {},
   "outputs": [
    {
     "data": {
      "text/plain": [
       "(array([0.00514665, 0.00636343, 0.00722044, 0.00723754, 0.00766702,\n",
       "        0.00784913, 0.00943551, 0.01037386, 0.01169535, 0.01278377,\n",
       "        0.01358369, 0.01383657, 0.01438031, 0.01502168, 0.01609518,\n",
       "        0.01634002, 0.01719652, 0.01932492, 0.01949181, 0.02025977,\n",
       "        0.02070384, 0.02088246, 0.0210889 , 0.02149523, 0.02180994,\n",
       "        0.02188196, 0.02193052, 0.02234018, 0.02311846, 0.02575601,\n",
       "        0.02618825, 0.02634955, 0.02650322, 0.0269333 , 0.02940053,\n",
       "        0.02958539, 0.03416003, 0.0347596 , 0.035602  , 0.03582567,\n",
       "        0.03626488, 0.03726259, 0.037804  , 0.03880477, 0.03983154,\n",
       "        0.04099266, 0.04120366, 0.04127971, 0.04223135, 0.04386982,\n",
       "        0.04405294, 0.04732477, 0.04894223, 0.05035266, 0.05142628,\n",
       "        0.05222429, 0.05702776, 0.05708122, 0.05751683, 0.06015016,\n",
       "        0.06045324, 0.06051226, 0.06327657, 0.06558562, 0.06589527,\n",
       "        0.06638298, 0.06653182, 0.06721976, 0.06731566, 0.06793768,\n",
       "        0.0690171 , 0.06906603, 0.06930137, 0.06933807, 0.06945132,\n",
       "        0.07134002, 0.07256163, 0.07294571, 0.07362548, 0.07393956,\n",
       "        0.07399165, 0.07411513, 0.07527359, 0.07685392, 0.07737036,\n",
       "        0.07808586, 0.07861967, 0.07904279, 0.07907973, 0.08114898,\n",
       "        0.0818636 , 0.08480343, 0.0854803 , 0.08670801, 0.08720494,\n",
       "        0.08753296, 0.08892981, 0.09095908, 0.09164209, 0.09173523,\n",
       "        0.09182872, 0.09277851, 0.09350303, 0.09396676, 0.09472686,\n",
       "        0.09476502, 0.0950686 , 0.09573446, 0.09598717, 0.09672825,\n",
       "        0.09729154, 0.09740786, 0.0977653 , 0.09783239, 0.09970251,\n",
       "        0.1011919 , 0.10119693, 0.10241304, 0.1028138 , 0.10308336,\n",
       "        0.1038988 , 0.10608043, 0.1061329 , 0.10831271, 0.1110559 ,\n",
       "        0.1122151 , 0.11340223, 0.11404479, 0.11467919, 0.11487744,\n",
       "        0.11488562, 0.11510571, 0.11522894, 0.11536875, 0.1167687 ,\n",
       "        0.11722134, 0.11905612, 0.12063109, 0.12367188, 0.1252755 ,\n",
       "        0.1253391 , 0.12798668, 0.12847698, 0.12867118, 0.12932747,\n",
       "        0.13095686, 0.13156822, 0.13202632, 0.13791972, 0.13905091,\n",
       "        0.13953605, 0.1416239 , 0.14282566, 0.14459924, 0.14516844,\n",
       "        0.14534973, 0.14552683, 0.14566664, 0.14789792, 0.1502075 ,\n",
       "        0.15050036, 0.15122767, 0.15382971, 0.15427912, 0.15454642,\n",
       "        0.15740143, 0.15812324, 0.15923538, 0.16105633, 0.16123836,\n",
       "        0.16213103, 0.16430483, 0.16437143, 0.16537251, 0.16554569,\n",
       "        0.16555463, 0.1667276 , 0.16714729, 0.16736106, 0.16740363,\n",
       "        0.16795102, 0.16864084, 0.17121231, 0.17121362, 0.17130219,\n",
       "        0.17381316, 0.17381518, 0.17406774, 0.17450721, 0.17521494,\n",
       "        0.17614466, 0.17630808, 0.17809516, 0.17844378, 0.17874898,\n",
       "        0.17892247, 0.18017473, 0.18049069, 0.1816456 , 0.18263374,\n",
       "        0.18353976, 0.18515311, 0.18517621, 0.1854333 , 0.1871563 ,\n",
       "        0.18787043, 0.19008789, 0.19110847, 0.19129947, 0.19248073,\n",
       "        0.19546054, 0.19646564, 0.19690075, 0.19917003, 0.19967194,\n",
       "        0.20062395, 0.20101942, 0.20404857, 0.20430703, 0.20499192,\n",
       "        0.20687617, 0.2077151 , 0.20827898, 0.20833415, 0.20882919,\n",
       "        0.2096538 , 0.21049402, 0.21114605, 0.21197434, 0.21367713,\n",
       "        0.21373573, 0.21401011, 0.21440166, 0.21529837, 0.21579132,\n",
       "        0.21813823, 0.21903881, 0.21956583, 0.22146703, 0.22175123,\n",
       "        0.22227476, 0.22402187, 0.22470262, 0.22521591, 0.2258707 ,\n",
       "        0.22651414, 0.22727499, 0.22736455, 0.22863072, 0.2290626 ,\n",
       "        0.22938217, 0.23141434, 0.23400255, 0.23520517, 0.2361214 ,\n",
       "        0.23625663, 0.23650853, 0.23754596, 0.23858394, 0.23862143,\n",
       "        0.23881251, 0.24016902, 0.24072848, 0.2416477 , 0.24273707,\n",
       "        0.24285704, 0.24343331, 0.24344641, 0.24515261, 0.24576857,\n",
       "        0.24687313, 0.24703012, 0.2481447 , 0.25028667, 0.25186994,\n",
       "        0.25266088, 0.25533954, 0.25555434, 0.25556412, 0.25569193,\n",
       "        0.25587485, 0.2560968 , 0.25641461, 0.25662762, 0.25691031,\n",
       "        0.26076983, 0.26151388, 0.26212669, 0.26269933, 0.26532797,\n",
       "        0.26533462, 0.2658727 , 0.26596868, 0.26680658, 0.26865428,\n",
       "        0.26945636, 0.27013093, 0.27127166, 0.27191711, 0.27594424,\n",
       "        0.27638303, 0.27761974, 0.2777181 , 0.2792248 , 0.27956316,\n",
       "        0.27983353, 0.28025923, 0.28158562, 0.28191159, 0.28201138,\n",
       "        0.28312447, 0.28412593, 0.28481551, 0.28496614, 0.28696693,\n",
       "        0.28785568, 0.28832182, 0.28832699, 0.29222219, 0.29393158,\n",
       "        0.29515356, 0.29595977, 0.29619107, 0.2965148 , 0.29798163,\n",
       "        0.2987934 , 0.29892117, 0.30014723, 0.30037799, 0.30101359,\n",
       "        0.30113133, 0.30183941, 0.30230591, 0.30309221, 0.30505521,\n",
       "        0.30534926, 0.30683957, 0.30781646, 0.30841939, 0.30857191,\n",
       "        0.30890009, 0.30988929, 0.31010538, 0.3104634 , 0.31140859,\n",
       "        0.31313454, 0.31345411, 0.31367975, 0.31628458, 0.31901308,\n",
       "        0.32045547, 0.32193341, 0.32203867, 0.32219285, 0.32220538,\n",
       "        0.32235721, 0.32373973, 0.32415184, 0.32553047, 0.32640349,\n",
       "        0.32765313, 0.32813198, 0.33018323, 0.33087672, 0.33174314,\n",
       "        0.33267562, 0.33324401, 0.33343871, 0.33417118, 0.33556745,\n",
       "        0.33585526, 0.336447  , 0.336641  , 0.33998416, 0.34069376,\n",
       "        0.34137287, 0.34308672, 0.34401639, 0.34403819, 0.34450615,\n",
       "        0.34527932, 0.3454778 , 0.34566601, 0.34710182, 0.34736363,\n",
       "        0.34848166, 0.35024027, 0.35057285, 0.35292199, 0.35553135,\n",
       "        0.3565815 , 0.35754104, 0.36001524, 0.36190517, 0.36254431,\n",
       "        0.3626215 , 0.3635695 , 0.36901367, 0.36989985, 0.37205125,\n",
       "        0.37379745, 0.37702053, 0.37751343, 0.37826129, 0.37911173,\n",
       "        0.37932925, 0.38296742, 0.38424986, 0.38428129, 0.38445618,\n",
       "        0.3853858 , 0.38996012, 0.39076815, 0.39104668, 0.39358614,\n",
       "        0.39583444, 0.39586   , 0.39774237, 0.39869969, 0.40050342,\n",
       "        0.40066927, 0.4010479 , 0.4022563 , 0.40264181, 0.40303089,\n",
       "        0.40361581, 0.40432727, 0.40605406, 0.40673148, 0.40783496,\n",
       "        0.40897812, 0.41096921, 0.41125582, 0.41466138, 0.41506282,\n",
       "        0.41556565, 0.41801708, 0.41832565, 0.41860088, 0.42051513,\n",
       "        0.42135764, 0.42308999, 0.42364405, 0.42427521, 0.42515428,\n",
       "        0.42554606, 0.42643192, 0.42667265, 0.4276014 , 0.42768729,\n",
       "        0.4283563 , 0.42901182, 0.42930937, 0.43163878, 0.43197649,\n",
       "        0.43321732, 0.4340438 , 0.43437522, 0.43459151, 0.43491727,\n",
       "        0.43770528, 0.43980479, 0.44042241, 0.44452004, 0.44468615,\n",
       "        0.4470639 , 0.44723821, 0.44855455, 0.45006805, 0.45053662,\n",
       "        0.45076586, 0.45276415, 0.45292427, 0.45325657, 0.45461575,\n",
       "        0.45505594, 0.45619927, 0.45650975, 0.45891358, 0.45953799,\n",
       "        0.46033923, 0.4613594 , 0.46291683, 0.46337636, 0.46536163,\n",
       "        0.46714413, 0.46811395, 0.46897561, 0.46995093, 0.47008155,\n",
       "        0.47058671, 0.47084105, 0.47194126, 0.47379808, 0.47398123,\n",
       "        0.47464174, 0.47524011, 0.47806261, 0.47948437, 0.48057353,\n",
       "        0.48450708, 0.48548889, 0.48625595, 0.48665557, 0.48840137,\n",
       "        0.48847929, 0.4885292 , 0.48888117, 0.48900447, 0.48960023,\n",
       "        0.48974381, 0.49022394, 0.49079896, 0.49555024, 0.49854443,\n",
       "        0.49935766, 0.49957878, 0.50168818, 0.50644704, 0.50757314,\n",
       "        0.50819602, 0.50838842, 0.51155074, 0.5117551 , 0.51540391,\n",
       "        0.51733613, 0.51764728, 0.51815965, 0.51889863, 0.51897539,\n",
       "        0.52068554, 0.52178668, 0.52197341, 0.52214716, 0.52223062,\n",
       "        0.52252557, 0.52265705, 0.52304777, 0.52470188, 0.52514013,\n",
       "        0.52592561, 0.52660395, 0.52795058, 0.5284342 , 0.52909417,\n",
       "        0.5297114 , 0.53240524, 0.53243124, 0.53265022, 0.53323774,\n",
       "        0.53611863, 0.53716416, 0.53803413, 0.53899609, 0.5398242 ,\n",
       "        0.53988986, 0.54078929, 0.54310022, 0.54534471, 0.54725371,\n",
       "        0.54802388, 0.55060788, 0.5507271 , 0.5512339 , 0.55483259,\n",
       "        0.55611854, 0.55693633, 0.55704638, 0.55790386, 0.55865542,\n",
       "        0.55895822, 0.55952619, 0.56080261, 0.56081801, 0.56148416,\n",
       "        0.56186918, 0.56265592, 0.56334187, 0.56339925, 0.56350017,\n",
       "        0.56351424, 0.56559136, 0.56791065, 0.57111909, 0.57226555,\n",
       "        0.57234409, 0.57318147, 0.57659412, 0.57858025, 0.57956606,\n",
       "        0.58013938, 0.58346101, 0.58489994, 0.58627508, 0.58742839,\n",
       "        0.5885741 , 0.58901038, 0.58939233, 0.58998718, 0.59166298,\n",
       "        0.59191657, 0.59247716, 0.59272042, 0.59474225, 0.59550721,\n",
       "        0.59721934, 0.59724319, 0.59732878, 0.59797035, 0.59855704,\n",
       "        0.60027057, 0.60090477, 0.6020062 , 0.60455224, 0.60495879,\n",
       "        0.60558613, 0.60769374, 0.60785576, 0.61071018, 0.61102475,\n",
       "        0.61251841, 0.6131188 , 0.61517253, 0.61605673, 0.61641567,\n",
       "        0.6178499 , 0.61879572, 0.61916937, 0.61997732, 0.62025675,\n",
       "        0.62065964, 0.62066534, 0.62099756, 0.62106928, 0.62248284,\n",
       "        0.62319113, 0.62325528, 0.62373462, 0.6261928 , 0.62773389,\n",
       "        0.6295908 , 0.62962565, 0.63160283, 0.63380292, 0.63439631,\n",
       "        0.63574605, 0.6371694 , 0.63789096, 0.63817851, 0.63942744,\n",
       "        0.64012615, 0.64104118, 0.64134773, 0.64229637, 0.64285627,\n",
       "        0.64345954, 0.64569783, 0.64827247, 0.64877697, 0.64932178,\n",
       "        0.65043364, 0.65122679, 0.65217694, 0.6526734 , 0.65304401,\n",
       "        0.65319161, 0.65596191, 0.65661175, 0.65693704, 0.6573254 ,\n",
       "        0.65760948, 0.65779142, 0.65854456, 0.65857261, 0.65966745,\n",
       "        0.6618989 , 0.66226415, 0.66277042, 0.66282025, 0.66442593,\n",
       "        0.66459091, 0.66684311, 0.6680016 , 0.66817597, 0.66920746,\n",
       "        0.67098695, 0.67143175, 0.67145213, 0.67169729, 0.67193156,\n",
       "        0.67333846, 0.67621549, 0.67627699, 0.67712007, 0.67731986,\n",
       "        0.67799425, 0.67945485, 0.68049497, 0.68115767, 0.68176669,\n",
       "        0.68254265, 0.68322205, 0.68352536, 0.6837056 , 0.68524314,\n",
       "        0.68629865, 0.68709323, 0.68787158, 0.68911744, 0.69111436,\n",
       "        0.69353902, 0.69469151, 0.69559483, 0.6961546 , 0.69696259,\n",
       "        0.69746122, 0.69805856, 0.69940052, 0.69954785, 0.70257835,\n",
       "        0.7045219 , 0.70459118, 0.70823216, 0.7083167 , 0.71026557,\n",
       "        0.71297245, 0.71330136, 0.71579533, 0.71604936, 0.7163235 ,\n",
       "        0.71747137, 0.71990777, 0.72052022, 0.72313044, 0.72317343,\n",
       "        0.7255599 , 0.72559927, 0.72623643, 0.72634426, 0.72650048,\n",
       "        0.72740914, 0.72760885, 0.72815224, 0.72858197, 0.7288277 ,\n",
       "        0.72968363, 0.72975113, 0.7302488 , 0.73074478, 0.7337175 ,\n",
       "        0.73658045, 0.73878033, 0.73902409, 0.73924327, 0.74185563,\n",
       "        0.74499003, 0.74561515, 0.74587743, 0.74655871, 0.7468746 ,\n",
       "        0.74827441, 0.74885692, 0.75014535, 0.75315385, 0.75403421,\n",
       "        0.75451727, 0.75478605, 0.75827852, 0.75952997, 0.7608162 ,\n",
       "        0.7623051 , 0.76295604, 0.76504475, 0.76779552, 0.76872614,\n",
       "        0.76915559, 0.76995793, 0.7707872 , 0.7716121 , 0.77209845,\n",
       "        0.77227775, 0.77272259, 0.77580553, 0.77626361, 0.7765852 ,\n",
       "        0.77812075, 0.77853599, 0.77877146, 0.77994516, 0.77997298,\n",
       "        0.7801625 , 0.78111178, 0.78684206, 0.78817315, 0.79095816,\n",
       "        0.79196924, 0.79334171, 0.7942136 , 0.79524821, 0.79574976,\n",
       "        0.79687815, 0.79717537, 0.79942129, 0.80223953, 0.80231693,\n",
       "        0.80305131, 0.80929871, 0.8094069 , 0.809556  , 0.81069126,\n",
       "        0.81110877, 0.81512935, 0.8171529 , 0.81719895, 0.81872642,\n",
       "        0.81890874, 0.81951438, 0.82004824, 0.82053341, 0.82078332,\n",
       "        0.82133059, 0.82234539, 0.82449098, 0.82577007, 0.82651466,\n",
       "        0.8267017 , 0.82671371, 0.82844691, 0.82870878, 0.82883113,\n",
       "        0.83072803, 0.83139024, 0.83359   , 0.83378283, 0.83421965,\n",
       "        0.83634185, 0.83694592, 0.83726932, 0.83829846, 0.83871449,\n",
       "        0.8399166 , 0.84001764, 0.84169186, 0.84298583, 0.84575584,\n",
       "        0.84804114, 0.85315407, 0.85463685, 0.8582124 , 0.85889721,\n",
       "        0.85944794, 0.86000767, 0.86205146, 0.86216927, 0.86397091,\n",
       "        0.86415136, 0.86453412, 0.86600506, 0.86673151, 0.86981257,\n",
       "        0.87196667, 0.87213735, 0.87240621, 0.87274251, 0.87303592,\n",
       "        0.87377046, 0.87472325, 0.87510592, 0.87679551, 0.88007126,\n",
       "        0.8811954 , 0.88137006, 0.88446316, 0.88510299, 0.88701177,\n",
       "        0.88842503, 0.88864945, 0.88875284, 0.88973911, 0.89102372,\n",
       "        0.89113415, 0.89243154, 0.89492934, 0.89543539, 0.89588191,\n",
       "        0.89588904, 0.89720972, 0.89753281, 0.89917833, 0.8998534 ,\n",
       "        0.90232253, 0.90282526, 0.90390397, 0.90395443, 0.90540874,\n",
       "        0.90584216, 0.90615668, 0.90639358, 0.90884711, 0.90911843,\n",
       "        0.90944451, 0.90977931, 0.91047406, 0.91118051, 0.91498764,\n",
       "        0.91566636, 0.91607117, 0.91750767, 0.91965874, 0.92008575,\n",
       "        0.92008716, 0.9211878 , 0.92330315, 0.92338501, 0.92366252,\n",
       "        0.92392989, 0.92456652, 0.92756461, 0.92794811, 0.93133172,\n",
       "        0.93262727, 0.93268084, 0.93362458, 0.93412145, 0.93431699,\n",
       "        0.93468017, 0.93513417, 0.93591221, 0.93647828, 0.93873099,\n",
       "        0.93963746, 0.93998106, 0.9408326 , 0.94224786, 0.9431801 ,\n",
       "        0.94495215, 0.94519668, 0.94621199, 0.94622157, 0.94996678,\n",
       "        0.95079604, 0.95084184, 0.9511059 , 0.9513359 , 0.95199409,\n",
       "        0.95200542, 0.95272093, 0.95307912, 0.95330976, 0.95338985,\n",
       "        0.95381458, 0.95413531, 0.95536382, 0.95555792, 0.9562875 ,\n",
       "        0.95761712, 0.95840874, 0.95936232, 0.96025039, 0.96317787,\n",
       "        0.96504724, 0.96626051, 0.96666762, 0.96689421, 0.96955983,\n",
       "        0.96974694, 0.97056236, 0.9711162 , 0.9714249 , 0.9716684 ,\n",
       "        0.97170269, 0.97180953, 0.97429066, 0.97604766, 0.97819095,\n",
       "        0.97935636, 0.97943204, 0.98091745, 0.98098908, 0.98168589,\n",
       "        0.98352969, 0.98473725, 0.98483185, 0.98552892, 0.98612081,\n",
       "        0.98617751, 0.98638463, 0.98663883, 0.98694635, 0.99006203,\n",
       "        0.99022013, 0.99066886, 0.99100994, 0.99302113, 0.99462404,\n",
       "        0.99638089, 0.99677264, 0.99798098, 0.99842731, 0.99949077]),\n",
       " array([1, 1, 1, 1, 1, 1, 1, 1, 1, 1, 1, 1, 1, 1, 1, 1, 1, 1, 1, 1, 1, 1,\n",
       "        1, 1, 1, 1, 1, 1, 1, 1, 1, 1, 1, 1, 1, 1, 1, 1, 1, 1, 1, 1, 1, 1,\n",
       "        1, 1, 1, 1, 1, 1, 1, 1, 1, 1, 1, 1, 1, 1, 1, 1, 1, 1, 1, 1, 1, 1,\n",
       "        1, 1, 1, 1, 1, 1, 1, 1, 1, 1, 1, 1, 1, 1, 1, 1, 1, 1, 1, 1, 1, 1,\n",
       "        1, 1, 1, 1, 1, 1, 1, 1, 1, 1, 1, 1, 1, 1, 1, 1, 1, 1, 1, 1, 1, 1,\n",
       "        1, 1, 1, 1, 1, 1, 1, 1, 1, 1, 1, 1, 1, 1, 1, 1, 1, 1, 1, 1, 1, 1,\n",
       "        1, 1, 1, 1, 1, 1, 1, 1, 1, 1, 1, 1, 1, 1, 1, 1, 1, 1, 1, 1, 1, 1,\n",
       "        1, 1, 1, 1, 1, 1, 1, 1, 1, 1, 1, 1, 1, 1, 1, 1, 1, 1, 1, 1, 1, 1,\n",
       "        1, 1, 1, 1, 1, 1, 1, 1, 1, 1, 1, 1, 1, 1, 1, 1, 1, 1, 1, 1, 1, 1,\n",
       "        1, 1, 1, 1, 1, 1, 1, 1, 1, 1, 1, 1, 1, 1, 1, 1, 1, 1, 1, 1, 1, 1,\n",
       "        1, 1, 1, 1, 1, 1, 1, 1, 1, 1, 1, 1, 1, 1, 1, 1, 1, 1, 1, 1, 1, 1,\n",
       "        1, 1, 1, 1, 1, 1, 1, 1, 1, 1, 1, 1, 1, 1, 1, 1, 1, 1, 1, 1, 1, 1,\n",
       "        1, 1, 1, 1, 1, 1, 1, 1, 1, 1, 1, 1, 1, 1, 1, 1, 1, 1, 1, 1, 1, 1,\n",
       "        1, 1, 1, 1, 1, 1, 1, 1, 1, 1, 1, 1, 1, 1, 1, 1, 1, 1, 1, 1, 1, 1,\n",
       "        1, 1, 1, 1, 1, 1, 1, 1, 1, 1, 1, 1, 1, 1, 1, 1, 1, 1, 1, 1, 1, 1,\n",
       "        1, 1, 1, 1, 1, 1, 1, 1, 1, 1, 1, 1, 1, 1, 1, 1, 1, 1, 1, 1, 1, 1,\n",
       "        1, 1, 1, 1, 1, 1, 1, 1, 1, 1, 1, 1, 1, 1, 1, 1, 1, 1, 1, 1, 1, 1,\n",
       "        1, 1, 1, 1, 1, 1, 1, 1, 1, 1, 1, 1, 1, 1, 1, 1, 1, 1, 1, 1, 1, 1,\n",
       "        1, 1, 1, 1, 1, 1, 1, 1, 1, 1, 1, 1, 1, 1, 1, 1, 1, 1, 1, 1, 1, 1,\n",
       "        1, 1, 1, 1, 1, 1, 1, 1, 1, 1, 1, 1, 1, 1, 1, 1, 1, 1, 1, 1, 1, 1,\n",
       "        1, 1, 1, 1, 1, 1, 1, 1, 1, 1, 1, 1, 1, 1, 1, 1, 1, 1, 1, 1, 1, 1,\n",
       "        1, 1, 1, 1, 1, 1, 1, 1, 1, 1, 1, 1, 1, 1, 1, 1, 1, 1, 1, 1, 1, 1,\n",
       "        1, 1, 1, 1, 1, 1, 1, 1, 1, 1, 1, 1, 1, 1, 1, 1, 1, 1, 1, 1, 1, 1,\n",
       "        1, 1, 1, 1, 1, 1, 1, 1, 1, 1, 1, 1, 1, 1, 1, 1, 1, 1, 1, 1, 1, 1,\n",
       "        1, 1, 1, 1, 1, 1, 1, 1, 1, 1, 1, 1, 1, 1, 1, 1, 1, 1, 1, 1, 1, 1,\n",
       "        1, 1, 1, 1, 1, 1, 1, 1, 1, 1, 1, 1, 1, 1, 1, 1, 1, 1, 1, 1, 1, 1,\n",
       "        1, 1, 1, 1, 1, 1, 1, 1, 1, 1, 1, 1, 1, 1, 1, 1, 1, 1, 1, 1, 1, 1,\n",
       "        1, 1, 1, 1, 1, 1, 1, 1, 1, 1, 1, 1, 1, 1, 1, 1, 1, 1, 1, 1, 1, 1,\n",
       "        1, 1, 1, 1, 1, 1, 1, 1, 1, 1, 1, 1, 1, 1, 1, 1, 1, 1, 1, 1, 1, 1,\n",
       "        1, 1, 1, 1, 1, 1, 1, 1, 1, 1, 1, 1, 1, 1, 1, 1, 1, 1, 1, 1, 1, 1,\n",
       "        1, 1, 1, 1, 1, 1, 1, 1, 1, 1, 1, 1, 1, 1, 1, 1, 1, 1, 1, 1, 1, 1,\n",
       "        1, 1, 1, 1, 1, 1, 1, 1, 1, 1, 1, 1, 1, 1, 1, 1, 1, 1, 1, 1, 1, 1,\n",
       "        1, 1, 1, 1, 1, 1, 1, 1, 1, 1, 1, 1, 1, 1, 1, 1, 1, 1, 1, 1, 1, 1,\n",
       "        1, 1, 1, 1, 1, 1, 1, 1, 1, 1, 1, 1, 1, 1, 1, 1, 1, 1, 1, 1, 1, 1,\n",
       "        1, 1, 1, 1, 1, 1, 1, 1, 1, 1, 1, 1, 1, 1, 1, 1, 1, 1, 1, 1, 1, 1,\n",
       "        1, 1, 1, 1, 1, 1, 1, 1, 1, 1, 1, 1, 1, 1, 1, 1, 1, 1, 1, 1, 1, 1,\n",
       "        1, 1, 1, 1, 1, 1, 1, 1, 1, 1, 1, 1, 1, 1, 1, 1, 1, 1, 1, 1, 1, 1,\n",
       "        1, 1, 1, 1, 1, 1, 1, 1, 1, 1, 1, 1, 1, 1, 1, 1, 1, 1, 1, 1, 1, 1,\n",
       "        1, 1, 1, 1, 1, 1, 1, 1, 1, 1, 1, 1, 1, 1, 1, 1, 1, 1, 1, 1, 1, 1,\n",
       "        1, 1, 1, 1, 1, 1, 1, 1, 1, 1, 1, 1, 1, 1, 1, 1, 1, 1, 1, 1, 1, 1,\n",
       "        1, 1, 1, 1, 1, 1, 1, 1, 1, 1, 1, 1, 1, 1, 1, 1, 1, 1, 1, 1, 1, 1,\n",
       "        1, 1, 1, 1, 1, 1, 1, 1, 1, 1, 1, 1, 1, 1, 1, 1, 1, 1, 1, 1, 1, 1,\n",
       "        1, 1, 1, 1, 1, 1, 1, 1, 1, 1, 1, 1, 1, 1, 1, 1, 1, 1, 1, 1, 1, 1,\n",
       "        1, 1, 1, 1, 1, 1, 1, 1, 1, 1, 1, 1, 1, 1, 1, 1, 1, 1, 1, 1, 1, 1,\n",
       "        1, 1, 1, 1, 1, 1, 1, 1, 1, 1, 1, 1, 1, 1, 1, 1, 1, 1, 1, 1, 1, 1,\n",
       "        1, 1, 1, 1, 1, 1, 1, 1, 1, 1]))"
      ]
     },
     "execution_count": 113,
     "metadata": {},
     "output_type": "execute_result"
    }
   ],
   "source": [
    "# The unique elements of rand_ints, with counts. (how many times certain numbers appear)\n",
    "x, counts = np.unique(rand_floats, return_counts=True)\n",
    "\n",
    "# Show the x and counts arrays.\n",
    "x, counts"
   ]
  },
  {
   "cell_type": "code",
   "execution_count": null,
   "metadata": {},
   "outputs": [],
   "source": [
    "# the array [1,1,1,.....] is worrying. Cant plot this"
   ]
  },
  {
   "cell_type": "code",
   "execution_count": 114,
   "metadata": {},
   "outputs": [
    {
     "data": {
      "image/png": "[encoded data removed]",
      "text/plain": [
       "<Figure size 1200x300 with 1 Axes>"
      ]
     },
     "metadata": {},
     "output_type": "display_data"
    }
   ],
   "source": [
    "# Create an empty plot.\n",
    "fig, ax = plt.subplots(figsize=(12, 3))\n",
    "\n",
    "# Plot a histogram.\n",
    "ax.hist(rand_floats, bins=100);"
   ]
  },
  {
   "cell_type": "markdown",
   "metadata": {},
   "source": [
    "## Normal Looking Data\n",
    "\n",
    "***"
   ]
  },
  {
   "cell_type": "code",
   "execution_count": 82,
   "metadata": {},
   "outputs": [],
   "source": [
    "# Generate numbers on a standard Normal distribution.\n",
    "rand_normal = rng.standard_normal(100000)"
   ]
  },
  {
   "cell_type": "code",
   "execution_count": 83,
   "metadata": {},
   "outputs": [
    {
     "data": {
      "image/png": "[encoded data removed]",
      "text/plain": [
       "<Figure size 1200x300 with 1 Axes>"
      ]
     },
     "metadata": {},
     "output_type": "display_data"
    }
   ],
   "source": [
    "# Create an empty plot.\n",
    "fig, ax = plt.subplots(figsize=(12, 3))\n",
    "\n",
    "# Plot a histogram.\n",
    "ax.hist(rand_normal, bins=100, density=True);"
   ]
  },
  {
   "cell_type": "markdown",
   "metadata": {},
   "source": [
    "## Two Plots in One\n",
    "\n",
    "***"
   ]
  },
  {
   "cell_type": "markdown",
   "metadata": {},
   "source": [
    "**Normal PDF**\n",
    "\n",
    "$$ f(x) = \\frac{1}{\\sigma \\sqrt{2 \\pi}} e^{-\\frac{1}{2}\\big( \\frac{x - \\mu}{\\sigma} \\big)^2} $$\n",
    "\n"
   ]
  },
  {
   "cell_type": "markdown",
   "metadata": {},
   "source": [
    "**Standard Normal PDF**\n",
    "\n",
    "$$ f(x) = \\frac{1}{\\sqrt{2 \\pi}} e^{-\\frac{x^2}{2}} $$\n",
    "\n"
   ]
  },
  {
   "cell_type": "code",
   "execution_count": 84,
   "metadata": {},
   "outputs": [],
   "source": [
    "# x should be a numpy array.\n",
    "def f(x):\n",
    "  A = 1.0 / np.sqrt(2.0 * np.pi)\n",
    "  B = np.exp(-(x**2) / 2.0)\n",
    "  return A * B"
   ]
  },
  {
   "cell_type": "code",
   "execution_count": 85,
   "metadata": {},
   "outputs": [
    {
     "data": {
      "text/plain": [
       "0.3989422804014327"
      ]
     },
     "execution_count": 85,
     "metadata": {},
     "output_type": "execute_result"
    }
   ],
   "source": [
    "# Test value around 0.0.\n",
    "f(0.0)"
   ]
  },
  {
   "cell_type": "code",
   "execution_count": 86,
   "metadata": {},
   "outputs": [
    {
     "data": {
      "text/plain": [
       "0.0044318484119380075"
      ]
     },
     "execution_count": 86,
     "metadata": {},
     "output_type": "execute_result"
    }
   ],
   "source": [
    "# Test value around 3.0.\n",
    "f(3.0)"
   ]
  },
  {
   "cell_type": "code",
   "execution_count": 87,
   "metadata": {},
   "outputs": [
    {
     "data": {
      "image/png": "[encoded data removed]",
      "text/plain": [
       "<Figure size 1200x400 with 1 Axes>"
      ]
     },
     "metadata": {},
     "output_type": "display_data"
    }
   ],
   "source": [
    "# Range of x values for plotting.\n",
    "x = np.linspace(-5.0, 5.0, 1001)\n",
    "\n",
    "# Create empty plot.\n",
    "fig, ax = plt.subplots(figsize=(12, 4))\n",
    "\n",
    "# Plot f(x).\n",
    "ax.plot(x, f(x));"
   ]
  },
  {
   "cell_type": "code",
   "execution_count": 88,
   "metadata": {},
   "outputs": [
    {
     "data": {
      "image/png": "[encoded data removed]",
      "text/plain": [
       "<Figure size 1200x400 with 1 Axes>"
      ]
     },
     "metadata": {},
     "output_type": "display_data"
    }
   ],
   "source": [
    "# Range of x values for plotting.\n",
    "x = np.linspace(-5.0, 5.0, 1001)\n",
    "\n",
    "# Create empty plot.\n",
    "fig, ax = plt.subplots(figsize=(12, 4))\n",
    "\n",
    "# Plot histogram of randomly generated normal values from above.\n",
    "ax.hist(rand_normal, bins=100, density=True)\n",
    "\n",
    "# Plot f(x).\n",
    "ax.plot(x, f(x));"
   ]
  },
  {
   "cell_type": "markdown",
   "metadata": {},
   "source": [
    "***\n",
    "\n",
    "#### End"
   ]
  }
 ],
 "metadata": {
  "kernelspec": {
   "display_name": "base",
   "language": "python",
   "name": "python3"
  },
  "language_info": {
   "codemirror_mode": {
    "name": "ipython",
    "version": 3
   },
   "file_extension": ".py",
   "mimetype": "text/x-python",
   "name": "python",
   "nbconvert_exporter": "python",
   "pygments_lexer": "ipython3",
   "version": "3.11.5"
  },
  "orig_nbformat": 4
 },
 "nbformat": 4,
 "nbformat_minor": 2
}
